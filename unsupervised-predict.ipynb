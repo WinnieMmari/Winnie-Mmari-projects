{
 "cells": [
  {
   "cell_type": "markdown",
   "id": "3378e63b",
   "metadata": {},
   "source": [
    "# EDSA Movie Recommendation Challenge\n",
    "\n",
    "© Explore Data Science Academy\n",
    "\n",
    "---\n",
    "### Honour Code\n",
    "#### Team EG2 Members\n",
    "\n",
    "I {**Hendrietta Setsome, Edidiong Udofia, Boitemogelo Tagane, Tonia Omonayin, Winnie Mmari, Pricilla Vhafuniwa Ndou**}, confirm - by submitting this document - that the solutions in this notebook are a result of my own work and that I abide by the [EDSA honour code](https://drive.google.com/file/d/1QDCjGZJ8-FmJE3bZdIQNwnJyQKPhHZBn/view?usp=sharing).\n",
    "\n",
    "Non-compliance with the honour code constitutes a material breach of contract."
   ]
  },
  {
   "cell_type": "markdown",
   "id": "779f92a3",
   "metadata": {},
   "source": [
    "## Table Of Contents\n",
    "\n",
    "<a href=#one>1. Introduction </a>\n",
    "\n",
    "<a href=#two>2. Importing Packages</a>\n",
    "\n",
    "<a href=#three>3. Loading Data</a>\n",
    "\n",
    "<a href=#four>4. Exploratory Data Analysis (EDA)</a>\n",
    "\n",
    "<a href=#five>5. Feature Engineering</a>\n",
    "\n",
    "<a href=#seven>6. Modeling</a>\n",
    "\n",
    "<a href=#eight>7. Model Performance</a>\n",
    "\n",
    "<a href=#nine>8. Model Explanation</a>\n",
    "\n",
    "<a href=#ten>9. Conclusion</a>\n",
    "\n",
    "<a href=#ten>10. Resources</a>"
   ]
  },
  {
   "cell_type": "code",
   "execution_count": 1,
   "id": "8fcc737c",
   "metadata": {},
   "outputs": [],
   "source": [
    "# We will be using Comet as a form of version control throughout the development of our model\n",
    "from comet_ml import Experiment"
   ]
  },
  {
   "cell_type": "code",
   "execution_count": 28,
   "id": "6a603188",
   "metadata": {},
   "outputs": [
    {
     "name": "stderr",
     "output_type": "stream",
     "text": [
      "\u001b[1;38;5;214mCOMET WARNING:\u001b[0m As you are running in a Jupyter environment, you will need to call `experiment.end()` when finished to ensure all metrics and code are logged before exiting.\n",
      "\n",
      "\u001b[1;38;5;39mCOMET INFO:\u001b[0m Couldn't find a Git repository in 'C:\\\\Users\\\\ctair\\\\Unsupervised Learning' nor in any parent directory. Set `COMET_GIT_DIRECTORY` if your Git Repository is elsewhere.\n",
      "\n",
      "\u001b[1;38;5;39mCOMET INFO:\u001b[0m Experiment is live on comet.com https://www.comet.com/thobekanimasondo84-gmail-com/edsa-movie-recommendation-challenge/8732212a094349308d378cff1160ca06\n",
      "\n",
      "\n"
     ]
    }
   ],
   "source": [
    "# Create an experiment with your api key\n",
    "experiment = Experiment(\n",
    "    api_key=\"KQ1UTh7hBvPLWlz3034oIgusG\",\n",
    "    project_name=\"edsa-movie-recommendation-challenge\",\n",
    "    workspace=\"thobekanimasondo84-gmail-com\",)"
   ]
  },
  {
   "cell_type": "markdown",
   "id": "d737df1c",
   "metadata": {},
   "source": [
    "<a id=\"one\"></a>\n",
    "## 1. Introduction\n",
    "<a href=#cont>Back to Table of Contents</a>\n",
    "\n",
    "In our technology-driven society, recommender systems play a crucial role in both social and economic aspects, ensuring that individuals can make well-informed choices regarding the content they consume daily. A notable application of this is in movie recommendations, where advanced algorithms assist viewers in discovering outstanding titles from a vast array of options.\n",
    "\n",
    "As EDSA students, we have developed a recommendation algorithm utilizing either content or collaborative filtering. This algorithm has the capability to predict how a user will rate a movie they haven't seen yet, drawing insights from their past preferences.\n",
    "\n",
    "Successfully addressing this challenge holds significant economic potential. Users of the system stand to benefit by being directed to content aligned with their preferences, leading to increased revenue and fostering platform loyalty.\n",
    "\n",
    "The evaluation metric for our model is Root Mean Square Error (RMSE), a commonly used measure in regression analysis and forecasting. RMSE assesses the standard deviation of the residuals between predicted and actual observed values in a modeling process, providing a quantitative assessment of the accuracy and reliability of our recommendation algorithms for generating user movie ratings.\n",
    "<div align=\"center\" style=\"width: 500px; font-size: 80%; text-align: center; margin: 0 auto\">\n",
    "<img src=\"https://manofmany.com/wp-content/uploads/2020/04/Veboli-new-2.jpg\"\n",
    "     alt=\"Dummy image 1\"\n",
    "     style=\"float: center; padding-bottom=0.5em\"\n",
    "     width=500px/>"
   ]
  },
  {
   "cell_type": "markdown",
   "id": "a95ca3cd",
   "metadata": {},
   "source": [
    "## Problem statement\n",
    "\n",
    "To construct a recommendation algorithm based on content or collaborative filtering, capable of accurately predicting how a user will rate a movie they have not yet viewed based on their historical preferences.\n",
    "\n",
    "The evaluation metric for this competition is Root Mean Square Error. Root Mean Square Error  is commonly used in regression analysis and forecasting, and measures the standard deviation of the residuals arising between predicted and actual observed values for a modelling process. For our task of generating user movie ratings via recommendation algorithms, the the formula is given by:\n",
    "\n",
    "$$RMSE = \\sqrt{\\frac{1}{|\\hat{R}|} \\sum_{\\hat{r}_{ui}\\in \\hat{R}}{(r_{ui}-\\hat{r}_{ui})^2}}$$\n",
    "\n",
    "Where $$\\hat{R}$$ is the total number of recommendations generated for users and movies, with rui and $$\\hat{rui}$$ being the true and predicted ratings for user u watching movie i respectively."
   ]
  },
  {
   "cell_type": "markdown",
   "id": "3d3ec22e",
   "metadata": {},
   "source": [
    "<a id=\"two\"></a>\n",
    "## 2. Importing Packages\n",
    "<a class=\"anchor\" id=\"1.1\"></a>\n",
    "<a href=#cont>Back to Table of Contents</a>"
   ]
  },
  {
   "cell_type": "code",
   "execution_count": 1,
   "id": "14c3026c",
   "metadata": {
    "execution": {
     "iopub.execute_input": "2024-02-06T03:16:48.516918Z",
     "iopub.status.busy": "2024-02-06T03:16:48.516100Z",
     "iopub.status.idle": "2024-02-06T03:18:45.679170Z",
     "shell.execute_reply": "2024-02-06T03:18:45.677726Z",
     "shell.execute_reply.started": "2024-02-06T03:16:48.516881Z"
    }
   },
   "outputs": [
    {
     "name": "stdout",
     "output_type": "stream",
     "text": [
      "Retrieving notices: ...working... done\n",
      "Channels:\n",
      " - conda-forge\n",
      " - rapidsai\n",
      " - nvidia\n",
      " - defaults\n",
      "Platform: linux-64\n",
      "Collecting package metadata (repodata.json): done\n",
      "Solving environment: done\n",
      "\n",
      "\n",
      "==> WARNING: A newer version of conda exists. <==\n",
      "    current version: 23.11.0\n",
      "    latest version: 24.1.0\n",
      "\n",
      "Please update conda by running\n",
      "\n",
      "    $ conda update -n base -c conda-forge conda\n",
      "\n",
      "\n",
      "\n",
      "## Package Plan ##\n",
      "\n",
      "  environment location: /opt/conda\n",
      "\n",
      "  added / updated specs:\n",
      "    - scikit-surprise\n",
      "\n",
      "\n",
      "The following packages will be downloaded:\n",
      "\n",
      "    package                    |            build\n",
      "    ---------------------------|-----------------\n",
      "    ca-certificates-2024.2.2   |       hbcca054_0         152 KB  conda-forge\n",
      "    certifi-2024.2.2           |     pyhd8ed1ab_0         157 KB  conda-forge\n",
      "    joblib-1.3.2               |     pyhd8ed1ab_0         216 KB  conda-forge\n",
      "    openssl-3.2.1              |       hd590300_0         2.7 MB  conda-forge\n",
      "    scikit-surprise-1.1.3      |  py310h1f7b6fc_2         554 KB  conda-forge\n",
      "    scipy-1.12.0               |  py310hb13e2d6_2        15.7 MB  conda-forge\n",
      "    ------------------------------------------------------------\n",
      "                                           Total:        19.5 MB\n",
      "\n",
      "The following NEW packages will be INSTALLED:\n",
      "\n",
      "  joblib             conda-forge/noarch::joblib-1.3.2-pyhd8ed1ab_0 \n",
      "  scikit-surprise    conda-forge/linux-64::scikit-surprise-1.1.3-py310h1f7b6fc_2 \n",
      "  scipy              conda-forge/linux-64::scipy-1.12.0-py310hb13e2d6_2 \n",
      "\n",
      "The following packages will be UPDATED:\n",
      "\n",
      "  ca-certificates                     2023.11.17-hbcca054_0 --> 2024.2.2-hbcca054_0 \n",
      "  certifi                           2023.11.17-pyhd8ed1ab_0 --> 2024.2.2-pyhd8ed1ab_0 \n",
      "  openssl                                  3.2.0-hd590300_1 --> 3.2.1-hd590300_0 \n",
      "\n",
      "\n",
      "\n",
      "Downloading and Extracting Packages:\n",
      "scipy-1.12.0         | 15.7 MB   |                                       |   0% \n",
      "openssl-3.2.1        | 2.7 MB    |                                       |   0% \u001b[A\n",
      "\n",
      "scikit-surprise-1.1. | 554 KB    |                                       |   0% \u001b[A\u001b[A\n",
      "\n",
      "\n",
      "joblib-1.3.2         | 216 KB    |                                       |   0% \u001b[A\u001b[A\u001b[A\n",
      "\n",
      "\n",
      "\n",
      "certifi-2024.2.2     | 157 KB    |                                       |   0% \u001b[A\u001b[A\u001b[A\u001b[A\n",
      "\n",
      "\n",
      "\n",
      "\n",
      "scipy-1.12.0         | 15.7 MB   | #6                                    |   4% \u001b[A\u001b[A\u001b[A\u001b[A\u001b[A\n",
      "openssl-3.2.1        | 2.7 MB    | ######9                               |  19% \u001b[A\n",
      "\n",
      "scikit-surprise-1.1. | 554 KB    | #                                     |   3% \u001b[A\u001b[A\n",
      "\n",
      "\n",
      "\n",
      "\n",
      "scipy-1.12.0         | 15.7 MB   | ######                                |  16% \u001b[A\u001b[A\u001b[A\u001b[A\u001b[A\n",
      "openssl-3.2.1        | 2.7 MB    | ####################################8 | 100% \u001b[A\n",
      "\n",
      "\n",
      "\n",
      "certifi-2024.2.2     | 157 KB    | ##################################### | 100% \u001b[A\u001b[A\u001b[A\u001b[A\n",
      "\n",
      "\n",
      "\n",
      "certifi-2024.2.2     | 157 KB    | ##################################### | 100% \u001b[A\u001b[A\u001b[A\u001b[A\n",
      "\n",
      "\n",
      "\n",
      "\n",
      "scipy-1.12.0         | 15.7 MB   | ########################1             |  65% \u001b[A\u001b[A\u001b[A\u001b[A\u001b[A\n",
      "\n",
      "\n",
      "joblib-1.3.2         | 216 KB    | ##################################### | 100% \u001b[A\u001b[A\u001b[A\n",
      "\n",
      "\n",
      "joblib-1.3.2         | 216 KB    | ##################################### | 100% \u001b[A\u001b[A\u001b[A\n",
      "\n",
      "scikit-surprise-1.1. | 554 KB    | ##################################### | 100% \u001b[A\u001b[A\n",
      "\n",
      "scipy-1.12.0         | 15.7 MB   | ##################################1   |  92% \u001b[A\u001b[A\n",
      "                                                                                \u001b[A\n",
      "                                                                                \u001b[A\n",
      "\n",
      "                                                                                \u001b[A\u001b[A\n",
      "\n",
      "\n",
      "                                                                                \u001b[A\u001b[A\u001b[A\n",
      "\n",
      "\n",
      "\n",
      "                                                                                \u001b[A\u001b[A\u001b[A\u001b[A\n",
      "\n",
      "\n",
      "\n",
      "\n",
      "                                                                                \u001b[A\u001b[A\u001b[A\u001b[A\u001b[A\n",
      "Preparing transaction: done\n",
      "Verifying transaction: done\n",
      "Executing transaction: done\n",
      "\n",
      "Note: you may need to restart the kernel to use updated packages.\n"
     ]
    }
   ],
   "source": [
    "conda install -c conda-forge scikit-surprise"
   ]
  },
  {
   "cell_type": "code",
   "execution_count": 1,
   "id": "780ad726",
   "metadata": {
    "execution": {
     "iopub.execute_input": "2024-02-06T15:20:52.044464Z",
     "iopub.status.busy": "2024-02-06T15:20:52.044098Z",
     "iopub.status.idle": "2024-02-06T15:20:58.223836Z",
     "shell.execute_reply": "2024-02-06T15:20:58.222645Z",
     "shell.execute_reply.started": "2024-02-06T15:20:52.044435Z"
    }
   },
   "outputs": [
    {
     "data": {
      "text/html": [
       "        <script type=\"text/javascript\">\n",
       "        window.PlotlyConfig = {MathJaxConfig: 'local'};\n",
       "        if (window.MathJax && window.MathJax.Hub && window.MathJax.Hub.Config) {window.MathJax.Hub.Config({SVG: {font: \"STIX-Web\"}});}\n",
       "        if (typeof require !== 'undefined') {\n",
       "        require.undef(\"plotly\");\n",
       "        requirejs.config({\n",
       "            paths: {\n",
       "                'plotly': ['https://cdn.plot.ly/plotly-2.27.0.min']\n",
       "            }\n",
       "        });\n",
       "        require(['plotly'], function(Plotly) {\n",
       "            window._Plotly = Plotly;\n",
       "        });\n",
       "        }\n",
       "        </script>\n",
       "        "
      ]
     },
     "metadata": {},
     "output_type": "display_data"
    }
   ],
   "source": [
    "import numpy as np\n",
    "import pandas as pd\n",
    "import matplotlib.pyplot as plt\n",
    "import seaborn as sns\n",
    "import scipy as sp\n",
    "\n",
    "# Packages for visualization\n",
    "import matplotlib.pyplot as plt\n",
    "import seaborn as sns\n",
    "%matplotlib inline\n",
    "\n",
    "import surprise\n",
    "from surprise import Reader\n",
    "from surprise import Dataset\n",
    "from surprise.model_selection import train_test_split\n",
    "import time\n",
    "from surprise import SVD\n",
    "from surprise import accuracy\n",
    "import re\n",
    "import plotly.express as px\n",
    "\n",
    "import geopandas as gpd\n",
    "import cufflinks as cf\n",
    "import difflib\n",
    "import gc   # To free up memory\n",
    "\n",
    "from sklearn.cluster import AgglomerativeClustering\n",
    "from sklearn.preprocessing import StandardScaler\n",
    "from sklearn.feature_extraction.text import TfidfVectorizer\n",
    "from matplotlib.colors import ListedColormap\n",
    "from matplotlib import offsetbox\n",
    "%matplotlib inline\n",
    "from wordcloud import WordCloud, STOPWORDS\n",
    "\n",
    "from sklearn import preprocessing\n",
    "from sklearn.decomposition import PCA\n",
    "from sklearn.model_selection import train_test_split\n",
    "\n",
    "import surprise    # Run \"!pip install surprise\" on new cell to download\n",
    "from surprise import Reader\n",
    "from surprise import Dataset\n",
    "from surprise.model_selection import train_test_split\n",
    "from surprise import SVD\n",
    "from surprise import SVDpp\n",
    "from surprise import accuracy\n",
    "import plotly.express as px\n",
    "from surprise.model_selection import cross_validate\n",
    "from surprise import NormalPredictor\n",
    "from surprise import KNNBasic\n",
    "from surprise import KNNWithMeans\n",
    "from surprise import KNNWithZScore\n",
    "from surprise import KNNBaseline\n",
    "from surprise import BaselineOnly\n",
    "from surprise import NMF\n",
    "from surprise import SlopeOne\n",
    "from surprise import CoClustering\n",
    "from surprise.accuracy import rmse\n",
    "from sklearn.cluster import KMeans\n",
    "from sklearn.mixture import GaussianMixture\n",
    "from scipy.cluster.hierarchy import ward, dendrogram\n",
    "import scipy.cluster.hierarchy as sch\n",
    "\n",
    "from sklearn import (manifold, datasets, decomposition, ensemble,\n",
    "                     discriminant_analysis, random_projection, preprocessing)\n",
    "\n",
    "from time import time    # Import time to measure algorithm runtime\n",
    "\n",
    "# Entity featurization and similarity computation\n",
    "from sklearn.metrics.pairwise import cosine_similarity \n",
    "from sklearn.feature_extraction.text import TfidfVectorizer, CountVectorizer\n",
    "\n",
    "from sklearn.metrics import mean_squared_error\n",
    "\n",
    "# Libraries used during sorting procedures.\n",
    "import operator # <-- Convienient item retrieval during iteration \n",
    "import heapq # <-- Efficient sorting of large lists\n",
    " \n",
    "sns.set(style='whitegrid', palette='muted',\n",
    "        rc={'figure.figsize': (15,10)})\n",
    "\n",
    "from plotly.offline import download_plotlyjs, init_notebook_mode, plot, iplot\n",
    "init_notebook_mode(connected=True)\n",
    "\n",
    "# Imported for our sanity\n",
    "import warnings\n",
    "warnings.filterwarnings('ignore')"
   ]
  },
  {
   "cell_type": "markdown",
   "id": "2857708a",
   "metadata": {},
   "source": [
    "### Data Description\n",
    "The dataset comprises millions of 5-star ratings collected from users of the MovieLens online movie recommendation service. Industry and academic researchers have extensively utilized the MovieLens dataset over time to enhance the effectiveness of recommender systems based on explicit user feedback.\n",
    "\n",
    "**Source:**\n",
    "\n",
    "The MovieLens dataset is curated by the GroupLens research group within the Department of Computer Science and Engineering at the University of Minnesota. Furthermore, supplementary information on movie content was gathered legally from IMDB through web scraping.\n",
    "**Supplied Files:**\n",
    "* genome_scores.csv - a score mapping the strength between movies and tag-related properties. Read more here\n",
    "* genome_tags.csv - user assigned tags for genome-related scores\n",
    "* imdb_data.csv - Additional movie metadata scraped from IMDB using the links.csv file.\n",
    "* links.csv - File providing a mapping between a MovieLens ID and associated IMDB and TMDB IDs.\n",
    "* sample_submission.csv - Sample of the submission format for the hackathon.\n",
    "* tags.csv - User assigned for the movies within the dataset.\n",
    "* test.csv - The test split of the dataset. Contains user and movie IDs with no rating data.\n",
    "* train.csv - The training split of the dataset. Contains user and movie IDs with associated rating data.\n",
    "\n",
    "**Additional Information:**\n",
    "\n",
    "The below information is provided directly from the MovieLens dataset description files:\n",
    "\n",
    "* All ratings are contained in the file train.csv. Each line of this file after the header row represents one rating of one movie by one user, and has the following format:\n",
    "userId,movieId,rating,timestamp\n",
    "The lines within this file are ordered first by userId, then, within user, by movieId.\n",
    "\n",
    "* Ratings are made on a 5-star scale, with half-star increments (0.5 stars - 5.0 stars).\n",
    "\n",
    "* Timestamps represent seconds since midnight Coordinated Universal Time (UTC) of January 1, 1970.\n",
    "\n",
    "* All tags are contained in the file tags.csv. Each line of this file after the header row represents one tag applied to one movie by one user, and has the following format:\n",
    "userId,movieId,tag,timestamp\n",
    "The lines within this file are ordered first by userId, then, within user, by movieId.\n",
    "Tags are user-generated metadata about movies. Each tag is typically a single word or short phrase. The meaning, value, and purpose of a particular tag is determined by each user.\n",
    "\n",
    "* Movie information is contained in the file movies.csv. Each line of this file after the header row represents one movie, and has the following format:\n",
    "movieId,title,genres\n",
    "Movie titles are entered manually or imported from https://www.themoviedb.org/, and include the year of release in parentheses. Errors and inconsistencies may exist in these titles.\n",
    "\n",
    "* Genres are a pipe-separated list, and are selected from the following:\n",
    "Action\n",
    "Adventure\n",
    "Animation\n",
    "Children's\n",
    "Comedy\n",
    "Crime\n",
    "Documentary\n",
    "Drama\n",
    "Fantasy\n",
    "Film-Noir\n",
    "Horror\n",
    "Musical\n",
    "Mystery\n",
    "Romance\n",
    "Sci-Fi\n",
    "Thriller\n",
    "War\n",
    "Western\n",
    "(no genres listed)\n",
    "Links Data File Structure (links.csv)\n",
    "Identifiers that can be used to link to other sources of movie data are contained in the file links.csv. Each line of this file after the header row represents one movie, and has the following format:\n",
    "\n",
    "* movieId is an identifier for movies used by https://movielens.org. E.g., the movie Toy Story has the link https://movielens.org/movies/1.\n",
    "\n",
    "* imdbId is an identifier for movies used by http://www.imdb.com. E.g., the movie Toy Story has the link http://www.imdb.com/title/tt0114709/.\n",
    "\n",
    "* tmdbId is an identifier for movies used by https://www.themoviedb.org. E.g., the movie Toy Story has the link https://www.themoviedb.org/movie/862.\n",
    "\n",
    "* As described in this article, the tag genome encodes how strongly movies exhibit particular properties represented by tags (atmospheric, thought-provoking, realistic, etc.). The tag genome was computed using a machine learning algorithm on user-contributed content including tags, ratings, and textual reviews.\n",
    "\n",
    "* The genome is split into two files. The file genome-scores.csv contains movie-tag relevance data in the following format:\n",
    "\n",
    "* The second file, genome-tags.csv, provides the tag descriptions for the tag IDs in the genome file, in the following format:\n",
    "tagId,tag"
   ]
  },
  {
   "cell_type": "markdown",
   "id": "13aebcc4",
   "metadata": {},
   "source": [
    "<a id=\"three\"></a>\n",
    "## 3. Loading the Data\n",
    "<a class=\"anchor\" id=\"1.1\"></a>\n",
    "<a href=#cont>Back to Table of Contents</a>"
   ]
  },
  {
   "cell_type": "code",
   "execution_count": 2,
   "id": "a6ab7822",
   "metadata": {
    "execution": {
     "iopub.execute_input": "2024-02-06T15:21:08.528044Z",
     "iopub.status.busy": "2024-02-06T15:21:08.527521Z",
     "iopub.status.idle": "2024-02-06T15:21:38.212225Z",
     "shell.execute_reply": "2024-02-06T15:21:38.210816Z",
     "shell.execute_reply.started": "2024-02-06T15:21:08.528002Z"
    }
   },
   "outputs": [],
   "source": [
    "# import dataset\n",
    "train_df = pd.read_csv(\"/kaggle/input/predict-data/train.csv\")\n",
    "test_df = pd.read_csv(\"/kaggle/input/predict-data/test.csv\")\n",
    "tags_df = pd.read_csv(\"/kaggle/input/predict-data/tags.csv\")\n",
    "movies_df = pd.read_csv(\"/kaggle/input/predict-data/movies.csv\")\n",
    "links_df = pd.read_csv(\"/kaggle/input/predict-data/links.csv\")\n",
    "imdb_df = pd.read_csv(\"/kaggle/input/predict-data/imdb_data.csv\")\n",
    "genome_tags = pd.read_csv(\"/kaggle/input/predict-data/genome_tags.csv\")\n",
    "genome_score = pd.read_csv(\"/kaggle/input/predict-data/genome_scores.csv\")\n",
    "sample_submission = pd.read_csv(\"/kaggle/input/predict-data/sample_submission.csv\")"
   ]
  },
  {
   "cell_type": "markdown",
   "id": "2286e7c6",
   "metadata": {},
   "source": [
    "#### Viewing the first 5 rows of each dataframe"
   ]
  },
  {
   "cell_type": "code",
   "execution_count": 3,
   "id": "78d40578",
   "metadata": {
    "execution": {
     "iopub.execute_input": "2024-02-06T15:21:45.685864Z",
     "iopub.status.busy": "2024-02-06T15:21:45.685482Z",
     "iopub.status.idle": "2024-02-06T15:21:45.711538Z",
     "shell.execute_reply": "2024-02-06T15:21:45.710421Z",
     "shell.execute_reply.started": "2024-02-06T15:21:45.685835Z"
    }
   },
   "outputs": [
    {
     "data": {
      "text/html": [
       "<div>\n",
       "<style scoped>\n",
       "    .dataframe tbody tr th:only-of-type {\n",
       "        vertical-align: middle;\n",
       "    }\n",
       "\n",
       "    .dataframe tbody tr th {\n",
       "        vertical-align: top;\n",
       "    }\n",
       "\n",
       "    .dataframe thead th {\n",
       "        text-align: right;\n",
       "    }\n",
       "</style>\n",
       "<table border=\"1\" class=\"dataframe\">\n",
       "  <thead>\n",
       "    <tr style=\"text-align: right;\">\n",
       "      <th></th>\n",
       "      <th>userId</th>\n",
       "      <th>movieId</th>\n",
       "      <th>rating</th>\n",
       "      <th>timestamp</th>\n",
       "    </tr>\n",
       "  </thead>\n",
       "  <tbody>\n",
       "    <tr>\n",
       "      <th>0</th>\n",
       "      <td>5163</td>\n",
       "      <td>57669</td>\n",
       "      <td>4.0</td>\n",
       "      <td>1518349992</td>\n",
       "    </tr>\n",
       "    <tr>\n",
       "      <th>1</th>\n",
       "      <td>106343</td>\n",
       "      <td>5</td>\n",
       "      <td>4.5</td>\n",
       "      <td>1206238739</td>\n",
       "    </tr>\n",
       "    <tr>\n",
       "      <th>2</th>\n",
       "      <td>146790</td>\n",
       "      <td>5459</td>\n",
       "      <td>5.0</td>\n",
       "      <td>1076215539</td>\n",
       "    </tr>\n",
       "    <tr>\n",
       "      <th>3</th>\n",
       "      <td>106362</td>\n",
       "      <td>32296</td>\n",
       "      <td>2.0</td>\n",
       "      <td>1423042565</td>\n",
       "    </tr>\n",
       "    <tr>\n",
       "      <th>4</th>\n",
       "      <td>9041</td>\n",
       "      <td>366</td>\n",
       "      <td>3.0</td>\n",
       "      <td>833375837</td>\n",
       "    </tr>\n",
       "  </tbody>\n",
       "</table>\n",
       "</div>"
      ],
      "text/plain": [
       "   userId  movieId  rating   timestamp\n",
       "0    5163    57669     4.0  1518349992\n",
       "1  106343        5     4.5  1206238739\n",
       "2  146790     5459     5.0  1076215539\n",
       "3  106362    32296     2.0  1423042565\n",
       "4    9041      366     3.0   833375837"
      ]
     },
     "execution_count": 3,
     "metadata": {},
     "output_type": "execute_result"
    }
   ],
   "source": [
    "train_df.head()"
   ]
  },
  {
   "cell_type": "code",
   "execution_count": 5,
   "id": "bba7bb37",
   "metadata": {
    "execution": {
     "iopub.execute_input": "2024-02-06T03:20:11.511315Z",
     "iopub.status.busy": "2024-02-06T03:20:11.510657Z",
     "iopub.status.idle": "2024-02-06T03:20:11.521943Z",
     "shell.execute_reply": "2024-02-06T03:20:11.520874Z",
     "shell.execute_reply.started": "2024-02-06T03:20:11.511272Z"
    }
   },
   "outputs": [
    {
     "data": {
      "text/html": [
       "<div>\n",
       "<style scoped>\n",
       "    .dataframe tbody tr th:only-of-type {\n",
       "        vertical-align: middle;\n",
       "    }\n",
       "\n",
       "    .dataframe tbody tr th {\n",
       "        vertical-align: top;\n",
       "    }\n",
       "\n",
       "    .dataframe thead th {\n",
       "        text-align: right;\n",
       "    }\n",
       "</style>\n",
       "<table border=\"1\" class=\"dataframe\">\n",
       "  <thead>\n",
       "    <tr style=\"text-align: right;\">\n",
       "      <th></th>\n",
       "      <th>userId</th>\n",
       "      <th>movieId</th>\n",
       "    </tr>\n",
       "  </thead>\n",
       "  <tbody>\n",
       "    <tr>\n",
       "      <th>0</th>\n",
       "      <td>1</td>\n",
       "      <td>2011</td>\n",
       "    </tr>\n",
       "    <tr>\n",
       "      <th>1</th>\n",
       "      <td>1</td>\n",
       "      <td>4144</td>\n",
       "    </tr>\n",
       "    <tr>\n",
       "      <th>2</th>\n",
       "      <td>1</td>\n",
       "      <td>5767</td>\n",
       "    </tr>\n",
       "    <tr>\n",
       "      <th>3</th>\n",
       "      <td>1</td>\n",
       "      <td>6711</td>\n",
       "    </tr>\n",
       "    <tr>\n",
       "      <th>4</th>\n",
       "      <td>1</td>\n",
       "      <td>7318</td>\n",
       "    </tr>\n",
       "  </tbody>\n",
       "</table>\n",
       "</div>"
      ],
      "text/plain": [
       "   userId  movieId\n",
       "0       1     2011\n",
       "1       1     4144\n",
       "2       1     5767\n",
       "3       1     6711\n",
       "4       1     7318"
      ]
     },
     "execution_count": 5,
     "metadata": {},
     "output_type": "execute_result"
    }
   ],
   "source": [
    "test_df.head()"
   ]
  },
  {
   "cell_type": "code",
   "execution_count": 6,
   "id": "ce759146",
   "metadata": {
    "execution": {
     "iopub.execute_input": "2024-02-06T03:20:18.990246Z",
     "iopub.status.busy": "2024-02-06T03:20:18.989858Z",
     "iopub.status.idle": "2024-02-06T03:20:19.005286Z",
     "shell.execute_reply": "2024-02-06T03:20:19.002973Z",
     "shell.execute_reply.started": "2024-02-06T03:20:18.990216Z"
    }
   },
   "outputs": [
    {
     "data": {
      "text/html": [
       "<div>\n",
       "<style scoped>\n",
       "    .dataframe tbody tr th:only-of-type {\n",
       "        vertical-align: middle;\n",
       "    }\n",
       "\n",
       "    .dataframe tbody tr th {\n",
       "        vertical-align: top;\n",
       "    }\n",
       "\n",
       "    .dataframe thead th {\n",
       "        text-align: right;\n",
       "    }\n",
       "</style>\n",
       "<table border=\"1\" class=\"dataframe\">\n",
       "  <thead>\n",
       "    <tr style=\"text-align: right;\">\n",
       "      <th></th>\n",
       "      <th>userId</th>\n",
       "      <th>movieId</th>\n",
       "      <th>tag</th>\n",
       "      <th>timestamp</th>\n",
       "    </tr>\n",
       "  </thead>\n",
       "  <tbody>\n",
       "    <tr>\n",
       "      <th>0</th>\n",
       "      <td>3</td>\n",
       "      <td>260</td>\n",
       "      <td>classic</td>\n",
       "      <td>1439472355</td>\n",
       "    </tr>\n",
       "    <tr>\n",
       "      <th>1</th>\n",
       "      <td>3</td>\n",
       "      <td>260</td>\n",
       "      <td>sci-fi</td>\n",
       "      <td>1439472256</td>\n",
       "    </tr>\n",
       "    <tr>\n",
       "      <th>2</th>\n",
       "      <td>4</td>\n",
       "      <td>1732</td>\n",
       "      <td>dark comedy</td>\n",
       "      <td>1573943598</td>\n",
       "    </tr>\n",
       "    <tr>\n",
       "      <th>3</th>\n",
       "      <td>4</td>\n",
       "      <td>1732</td>\n",
       "      <td>great dialogue</td>\n",
       "      <td>1573943604</td>\n",
       "    </tr>\n",
       "    <tr>\n",
       "      <th>4</th>\n",
       "      <td>4</td>\n",
       "      <td>7569</td>\n",
       "      <td>so bad it's good</td>\n",
       "      <td>1573943455</td>\n",
       "    </tr>\n",
       "  </tbody>\n",
       "</table>\n",
       "</div>"
      ],
      "text/plain": [
       "   userId  movieId               tag   timestamp\n",
       "0       3      260           classic  1439472355\n",
       "1       3      260            sci-fi  1439472256\n",
       "2       4     1732       dark comedy  1573943598\n",
       "3       4     1732    great dialogue  1573943604\n",
       "4       4     7569  so bad it's good  1573943455"
      ]
     },
     "execution_count": 6,
     "metadata": {},
     "output_type": "execute_result"
    }
   ],
   "source": [
    "tags_df.head()"
   ]
  },
  {
   "cell_type": "code",
   "execution_count": 7,
   "id": "a47fe98c",
   "metadata": {
    "execution": {
     "iopub.execute_input": "2024-02-06T03:20:24.458335Z",
     "iopub.status.busy": "2024-02-06T03:20:24.457880Z",
     "iopub.status.idle": "2024-02-06T03:20:24.469771Z",
     "shell.execute_reply": "2024-02-06T03:20:24.468539Z",
     "shell.execute_reply.started": "2024-02-06T03:20:24.458301Z"
    }
   },
   "outputs": [
    {
     "data": {
      "text/html": [
       "<div>\n",
       "<style scoped>\n",
       "    .dataframe tbody tr th:only-of-type {\n",
       "        vertical-align: middle;\n",
       "    }\n",
       "\n",
       "    .dataframe tbody tr th {\n",
       "        vertical-align: top;\n",
       "    }\n",
       "\n",
       "    .dataframe thead th {\n",
       "        text-align: right;\n",
       "    }\n",
       "</style>\n",
       "<table border=\"1\" class=\"dataframe\">\n",
       "  <thead>\n",
       "    <tr style=\"text-align: right;\">\n",
       "      <th></th>\n",
       "      <th>movieId</th>\n",
       "      <th>title</th>\n",
       "      <th>genres</th>\n",
       "    </tr>\n",
       "  </thead>\n",
       "  <tbody>\n",
       "    <tr>\n",
       "      <th>0</th>\n",
       "      <td>1</td>\n",
       "      <td>Toy Story (1995)</td>\n",
       "      <td>Adventure|Animation|Children|Comedy|Fantasy</td>\n",
       "    </tr>\n",
       "    <tr>\n",
       "      <th>1</th>\n",
       "      <td>2</td>\n",
       "      <td>Jumanji (1995)</td>\n",
       "      <td>Adventure|Children|Fantasy</td>\n",
       "    </tr>\n",
       "    <tr>\n",
       "      <th>2</th>\n",
       "      <td>3</td>\n",
       "      <td>Grumpier Old Men (1995)</td>\n",
       "      <td>Comedy|Romance</td>\n",
       "    </tr>\n",
       "    <tr>\n",
       "      <th>3</th>\n",
       "      <td>4</td>\n",
       "      <td>Waiting to Exhale (1995)</td>\n",
       "      <td>Comedy|Drama|Romance</td>\n",
       "    </tr>\n",
       "    <tr>\n",
       "      <th>4</th>\n",
       "      <td>5</td>\n",
       "      <td>Father of the Bride Part II (1995)</td>\n",
       "      <td>Comedy</td>\n",
       "    </tr>\n",
       "  </tbody>\n",
       "</table>\n",
       "</div>"
      ],
      "text/plain": [
       "   movieId                               title  \\\n",
       "0        1                    Toy Story (1995)   \n",
       "1        2                      Jumanji (1995)   \n",
       "2        3             Grumpier Old Men (1995)   \n",
       "3        4            Waiting to Exhale (1995)   \n",
       "4        5  Father of the Bride Part II (1995)   \n",
       "\n",
       "                                        genres  \n",
       "0  Adventure|Animation|Children|Comedy|Fantasy  \n",
       "1                   Adventure|Children|Fantasy  \n",
       "2                               Comedy|Romance  \n",
       "3                         Comedy|Drama|Romance  \n",
       "4                                       Comedy  "
      ]
     },
     "execution_count": 7,
     "metadata": {},
     "output_type": "execute_result"
    }
   ],
   "source": [
    "movies_df.head()"
   ]
  },
  {
   "cell_type": "code",
   "execution_count": 8,
   "id": "0560e8fc",
   "metadata": {
    "execution": {
     "iopub.execute_input": "2024-02-06T03:20:27.640306Z",
     "iopub.status.busy": "2024-02-06T03:20:27.639852Z",
     "iopub.status.idle": "2024-02-06T03:20:27.653541Z",
     "shell.execute_reply": "2024-02-06T03:20:27.651921Z",
     "shell.execute_reply.started": "2024-02-06T03:20:27.640277Z"
    }
   },
   "outputs": [
    {
     "data": {
      "text/html": [
       "<div>\n",
       "<style scoped>\n",
       "    .dataframe tbody tr th:only-of-type {\n",
       "        vertical-align: middle;\n",
       "    }\n",
       "\n",
       "    .dataframe tbody tr th {\n",
       "        vertical-align: top;\n",
       "    }\n",
       "\n",
       "    .dataframe thead th {\n",
       "        text-align: right;\n",
       "    }\n",
       "</style>\n",
       "<table border=\"1\" class=\"dataframe\">\n",
       "  <thead>\n",
       "    <tr style=\"text-align: right;\">\n",
       "      <th></th>\n",
       "      <th>movieId</th>\n",
       "      <th>imdbId</th>\n",
       "      <th>tmdbId</th>\n",
       "    </tr>\n",
       "  </thead>\n",
       "  <tbody>\n",
       "    <tr>\n",
       "      <th>0</th>\n",
       "      <td>1</td>\n",
       "      <td>114709</td>\n",
       "      <td>862.0</td>\n",
       "    </tr>\n",
       "    <tr>\n",
       "      <th>1</th>\n",
       "      <td>2</td>\n",
       "      <td>113497</td>\n",
       "      <td>8844.0</td>\n",
       "    </tr>\n",
       "    <tr>\n",
       "      <th>2</th>\n",
       "      <td>3</td>\n",
       "      <td>113228</td>\n",
       "      <td>15602.0</td>\n",
       "    </tr>\n",
       "    <tr>\n",
       "      <th>3</th>\n",
       "      <td>4</td>\n",
       "      <td>114885</td>\n",
       "      <td>31357.0</td>\n",
       "    </tr>\n",
       "    <tr>\n",
       "      <th>4</th>\n",
       "      <td>5</td>\n",
       "      <td>113041</td>\n",
       "      <td>11862.0</td>\n",
       "    </tr>\n",
       "  </tbody>\n",
       "</table>\n",
       "</div>"
      ],
      "text/plain": [
       "   movieId  imdbId   tmdbId\n",
       "0        1  114709    862.0\n",
       "1        2  113497   8844.0\n",
       "2        3  113228  15602.0\n",
       "3        4  114885  31357.0\n",
       "4        5  113041  11862.0"
      ]
     },
     "execution_count": 8,
     "metadata": {},
     "output_type": "execute_result"
    }
   ],
   "source": [
    "links_df.head()"
   ]
  },
  {
   "cell_type": "code",
   "execution_count": 9,
   "id": "b5515392",
   "metadata": {
    "execution": {
     "iopub.execute_input": "2024-02-06T03:20:31.490008Z",
     "iopub.status.busy": "2024-02-06T03:20:31.489636Z",
     "iopub.status.idle": "2024-02-06T03:20:31.503841Z",
     "shell.execute_reply": "2024-02-06T03:20:31.502684Z",
     "shell.execute_reply.started": "2024-02-06T03:20:31.489982Z"
    }
   },
   "outputs": [
    {
     "data": {
      "text/html": [
       "<div>\n",
       "<style scoped>\n",
       "    .dataframe tbody tr th:only-of-type {\n",
       "        vertical-align: middle;\n",
       "    }\n",
       "\n",
       "    .dataframe tbody tr th {\n",
       "        vertical-align: top;\n",
       "    }\n",
       "\n",
       "    .dataframe thead th {\n",
       "        text-align: right;\n",
       "    }\n",
       "</style>\n",
       "<table border=\"1\" class=\"dataframe\">\n",
       "  <thead>\n",
       "    <tr style=\"text-align: right;\">\n",
       "      <th></th>\n",
       "      <th>movieId</th>\n",
       "      <th>title_cast</th>\n",
       "      <th>director</th>\n",
       "      <th>runtime</th>\n",
       "      <th>budget</th>\n",
       "      <th>plot_keywords</th>\n",
       "    </tr>\n",
       "  </thead>\n",
       "  <tbody>\n",
       "    <tr>\n",
       "      <th>0</th>\n",
       "      <td>1</td>\n",
       "      <td>Tom Hanks|Tim Allen|Don Rickles|Jim Varney|Wal...</td>\n",
       "      <td>John Lasseter</td>\n",
       "      <td>81.0</td>\n",
       "      <td>$30,000,000</td>\n",
       "      <td>toy|rivalry|cowboy|cgi animation</td>\n",
       "    </tr>\n",
       "    <tr>\n",
       "      <th>1</th>\n",
       "      <td>2</td>\n",
       "      <td>Robin Williams|Jonathan Hyde|Kirsten Dunst|Bra...</td>\n",
       "      <td>Jonathan Hensleigh</td>\n",
       "      <td>104.0</td>\n",
       "      <td>$65,000,000</td>\n",
       "      <td>board game|adventurer|fight|game</td>\n",
       "    </tr>\n",
       "    <tr>\n",
       "      <th>2</th>\n",
       "      <td>3</td>\n",
       "      <td>Walter Matthau|Jack Lemmon|Sophia Loren|Ann-Ma...</td>\n",
       "      <td>Mark Steven Johnson</td>\n",
       "      <td>101.0</td>\n",
       "      <td>$25,000,000</td>\n",
       "      <td>boat|lake|neighbor|rivalry</td>\n",
       "    </tr>\n",
       "    <tr>\n",
       "      <th>3</th>\n",
       "      <td>4</td>\n",
       "      <td>Whitney Houston|Angela Bassett|Loretta Devine|...</td>\n",
       "      <td>Terry McMillan</td>\n",
       "      <td>124.0</td>\n",
       "      <td>$16,000,000</td>\n",
       "      <td>black american|husband wife relationship|betra...</td>\n",
       "    </tr>\n",
       "    <tr>\n",
       "      <th>4</th>\n",
       "      <td>5</td>\n",
       "      <td>Steve Martin|Diane Keaton|Martin Short|Kimberl...</td>\n",
       "      <td>Albert Hackett</td>\n",
       "      <td>106.0</td>\n",
       "      <td>$30,000,000</td>\n",
       "      <td>fatherhood|doberman|dog|mansion</td>\n",
       "    </tr>\n",
       "  </tbody>\n",
       "</table>\n",
       "</div>"
      ],
      "text/plain": [
       "   movieId                                         title_cast  \\\n",
       "0        1  Tom Hanks|Tim Allen|Don Rickles|Jim Varney|Wal...   \n",
       "1        2  Robin Williams|Jonathan Hyde|Kirsten Dunst|Bra...   \n",
       "2        3  Walter Matthau|Jack Lemmon|Sophia Loren|Ann-Ma...   \n",
       "3        4  Whitney Houston|Angela Bassett|Loretta Devine|...   \n",
       "4        5  Steve Martin|Diane Keaton|Martin Short|Kimberl...   \n",
       "\n",
       "              director  runtime       budget  \\\n",
       "0        John Lasseter     81.0  $30,000,000   \n",
       "1   Jonathan Hensleigh    104.0  $65,000,000   \n",
       "2  Mark Steven Johnson    101.0  $25,000,000   \n",
       "3       Terry McMillan    124.0  $16,000,000   \n",
       "4       Albert Hackett    106.0  $30,000,000   \n",
       "\n",
       "                                       plot_keywords  \n",
       "0                   toy|rivalry|cowboy|cgi animation  \n",
       "1                   board game|adventurer|fight|game  \n",
       "2                         boat|lake|neighbor|rivalry  \n",
       "3  black american|husband wife relationship|betra...  \n",
       "4                    fatherhood|doberman|dog|mansion  "
      ]
     },
     "execution_count": 9,
     "metadata": {},
     "output_type": "execute_result"
    }
   ],
   "source": [
    "imdb_df.head()"
   ]
  },
  {
   "cell_type": "code",
   "execution_count": 10,
   "id": "8f5d8962",
   "metadata": {
    "execution": {
     "iopub.execute_input": "2024-02-06T03:20:37.270298Z",
     "iopub.status.busy": "2024-02-06T03:20:37.269828Z",
     "iopub.status.idle": "2024-02-06T03:20:37.279937Z",
     "shell.execute_reply": "2024-02-06T03:20:37.279145Z",
     "shell.execute_reply.started": "2024-02-06T03:20:37.270264Z"
    }
   },
   "outputs": [
    {
     "data": {
      "text/html": [
       "<div>\n",
       "<style scoped>\n",
       "    .dataframe tbody tr th:only-of-type {\n",
       "        vertical-align: middle;\n",
       "    }\n",
       "\n",
       "    .dataframe tbody tr th {\n",
       "        vertical-align: top;\n",
       "    }\n",
       "\n",
       "    .dataframe thead th {\n",
       "        text-align: right;\n",
       "    }\n",
       "</style>\n",
       "<table border=\"1\" class=\"dataframe\">\n",
       "  <thead>\n",
       "    <tr style=\"text-align: right;\">\n",
       "      <th></th>\n",
       "      <th>tagId</th>\n",
       "      <th>tag</th>\n",
       "    </tr>\n",
       "  </thead>\n",
       "  <tbody>\n",
       "    <tr>\n",
       "      <th>0</th>\n",
       "      <td>1</td>\n",
       "      <td>007</td>\n",
       "    </tr>\n",
       "    <tr>\n",
       "      <th>1</th>\n",
       "      <td>2</td>\n",
       "      <td>007 (series)</td>\n",
       "    </tr>\n",
       "    <tr>\n",
       "      <th>2</th>\n",
       "      <td>3</td>\n",
       "      <td>18th century</td>\n",
       "    </tr>\n",
       "    <tr>\n",
       "      <th>3</th>\n",
       "      <td>4</td>\n",
       "      <td>1920s</td>\n",
       "    </tr>\n",
       "    <tr>\n",
       "      <th>4</th>\n",
       "      <td>5</td>\n",
       "      <td>1930s</td>\n",
       "    </tr>\n",
       "  </tbody>\n",
       "</table>\n",
       "</div>"
      ],
      "text/plain": [
       "   tagId           tag\n",
       "0      1           007\n",
       "1      2  007 (series)\n",
       "2      3  18th century\n",
       "3      4         1920s\n",
       "4      5         1930s"
      ]
     },
     "execution_count": 10,
     "metadata": {},
     "output_type": "execute_result"
    }
   ],
   "source": [
    "genome_tags.head()"
   ]
  },
  {
   "cell_type": "code",
   "execution_count": 11,
   "id": "693f7b28",
   "metadata": {
    "execution": {
     "iopub.execute_input": "2024-02-06T03:20:58.401603Z",
     "iopub.status.busy": "2024-02-06T03:20:58.400327Z",
     "iopub.status.idle": "2024-02-06T03:20:58.412907Z",
     "shell.execute_reply": "2024-02-06T03:20:58.411651Z",
     "shell.execute_reply.started": "2024-02-06T03:20:58.401563Z"
    }
   },
   "outputs": [
    {
     "data": {
      "text/html": [
       "<div>\n",
       "<style scoped>\n",
       "    .dataframe tbody tr th:only-of-type {\n",
       "        vertical-align: middle;\n",
       "    }\n",
       "\n",
       "    .dataframe tbody tr th {\n",
       "        vertical-align: top;\n",
       "    }\n",
       "\n",
       "    .dataframe thead th {\n",
       "        text-align: right;\n",
       "    }\n",
       "</style>\n",
       "<table border=\"1\" class=\"dataframe\">\n",
       "  <thead>\n",
       "    <tr style=\"text-align: right;\">\n",
       "      <th></th>\n",
       "      <th>movieId</th>\n",
       "      <th>tagId</th>\n",
       "      <th>relevance</th>\n",
       "    </tr>\n",
       "  </thead>\n",
       "  <tbody>\n",
       "    <tr>\n",
       "      <th>0</th>\n",
       "      <td>1</td>\n",
       "      <td>1</td>\n",
       "      <td>0.02875</td>\n",
       "    </tr>\n",
       "    <tr>\n",
       "      <th>1</th>\n",
       "      <td>1</td>\n",
       "      <td>2</td>\n",
       "      <td>0.02375</td>\n",
       "    </tr>\n",
       "    <tr>\n",
       "      <th>2</th>\n",
       "      <td>1</td>\n",
       "      <td>3</td>\n",
       "      <td>0.06250</td>\n",
       "    </tr>\n",
       "    <tr>\n",
       "      <th>3</th>\n",
       "      <td>1</td>\n",
       "      <td>4</td>\n",
       "      <td>0.07575</td>\n",
       "    </tr>\n",
       "    <tr>\n",
       "      <th>4</th>\n",
       "      <td>1</td>\n",
       "      <td>5</td>\n",
       "      <td>0.14075</td>\n",
       "    </tr>\n",
       "  </tbody>\n",
       "</table>\n",
       "</div>"
      ],
      "text/plain": [
       "   movieId  tagId  relevance\n",
       "0        1      1    0.02875\n",
       "1        1      2    0.02375\n",
       "2        1      3    0.06250\n",
       "3        1      4    0.07575\n",
       "4        1      5    0.14075"
      ]
     },
     "execution_count": 11,
     "metadata": {},
     "output_type": "execute_result"
    }
   ],
   "source": [
    "genome_score.head()"
   ]
  },
  {
   "cell_type": "code",
   "execution_count": 12,
   "id": "45992eae",
   "metadata": {
    "execution": {
     "iopub.execute_input": "2024-02-06T03:21:04.819687Z",
     "iopub.status.busy": "2024-02-06T03:21:04.819230Z",
     "iopub.status.idle": "2024-02-06T03:21:04.832377Z",
     "shell.execute_reply": "2024-02-06T03:21:04.831008Z",
     "shell.execute_reply.started": "2024-02-06T03:21:04.819654Z"
    }
   },
   "outputs": [
    {
     "data": {
      "text/html": [
       "<div>\n",
       "<style scoped>\n",
       "    .dataframe tbody tr th:only-of-type {\n",
       "        vertical-align: middle;\n",
       "    }\n",
       "\n",
       "    .dataframe tbody tr th {\n",
       "        vertical-align: top;\n",
       "    }\n",
       "\n",
       "    .dataframe thead th {\n",
       "        text-align: right;\n",
       "    }\n",
       "</style>\n",
       "<table border=\"1\" class=\"dataframe\">\n",
       "  <thead>\n",
       "    <tr style=\"text-align: right;\">\n",
       "      <th></th>\n",
       "      <th>Id</th>\n",
       "      <th>rating</th>\n",
       "    </tr>\n",
       "  </thead>\n",
       "  <tbody>\n",
       "    <tr>\n",
       "      <th>0</th>\n",
       "      <td>1_2011</td>\n",
       "      <td>1.0</td>\n",
       "    </tr>\n",
       "    <tr>\n",
       "      <th>1</th>\n",
       "      <td>1_4144</td>\n",
       "      <td>1.0</td>\n",
       "    </tr>\n",
       "    <tr>\n",
       "      <th>2</th>\n",
       "      <td>1_5767</td>\n",
       "      <td>1.0</td>\n",
       "    </tr>\n",
       "    <tr>\n",
       "      <th>3</th>\n",
       "      <td>1_6711</td>\n",
       "      <td>1.0</td>\n",
       "    </tr>\n",
       "    <tr>\n",
       "      <th>4</th>\n",
       "      <td>1_7318</td>\n",
       "      <td>1.0</td>\n",
       "    </tr>\n",
       "  </tbody>\n",
       "</table>\n",
       "</div>"
      ],
      "text/plain": [
       "       Id  rating\n",
       "0  1_2011     1.0\n",
       "1  1_4144     1.0\n",
       "2  1_5767     1.0\n",
       "3  1_6711     1.0\n",
       "4  1_7318     1.0"
      ]
     },
     "execution_count": 12,
     "metadata": {},
     "output_type": "execute_result"
    }
   ],
   "source": [
    "sample_submission.head()"
   ]
  },
  {
   "cell_type": "code",
   "execution_count": 13,
   "id": "293a1fe3",
   "metadata": {
    "execution": {
     "iopub.execute_input": "2024-02-06T03:21:07.460384Z",
     "iopub.status.busy": "2024-02-06T03:21:07.459956Z",
     "iopub.status.idle": "2024-02-06T03:21:07.489803Z",
     "shell.execute_reply": "2024-02-06T03:21:07.488289Z",
     "shell.execute_reply.started": "2024-02-06T03:21:07.460353Z"
    }
   },
   "outputs": [
    {
     "name": "stdout",
     "output_type": "stream",
     "text": [
      "<class 'pandas.core.frame.DataFrame'>\n",
      "RangeIndex: 10000038 entries, 0 to 10000037\n",
      "Data columns (total 4 columns):\n",
      " #   Column     Dtype  \n",
      "---  ------     -----  \n",
      " 0   userId     int64  \n",
      " 1   movieId    int64  \n",
      " 2   rating     float64\n",
      " 3   timestamp  int64  \n",
      "dtypes: float64(1), int64(3)\n",
      "memory usage: 305.2 MB\n"
     ]
    }
   ],
   "source": [
    "#Checking for missing values in the dataset\n",
    "train_df.info()"
   ]
  },
  {
   "cell_type": "code",
   "execution_count": 14,
   "id": "e1481a5f",
   "metadata": {
    "execution": {
     "iopub.execute_input": "2024-02-06T03:21:18.709635Z",
     "iopub.status.busy": "2024-02-06T03:21:18.709249Z",
     "iopub.status.idle": "2024-02-06T03:21:18.720530Z",
     "shell.execute_reply": "2024-02-06T03:21:18.719093Z",
     "shell.execute_reply.started": "2024-02-06T03:21:18.709606Z"
    }
   },
   "outputs": [
    {
     "name": "stdout",
     "output_type": "stream",
     "text": [
      "<class 'pandas.core.frame.DataFrame'>\n",
      "RangeIndex: 5000019 entries, 0 to 5000018\n",
      "Data columns (total 2 columns):\n",
      " #   Column   Dtype\n",
      "---  ------   -----\n",
      " 0   userId   int64\n",
      " 1   movieId  int64\n",
      "dtypes: int64(2)\n",
      "memory usage: 76.3 MB\n"
     ]
    }
   ],
   "source": [
    "test_df.info()"
   ]
  },
  {
   "cell_type": "code",
   "execution_count": 15,
   "id": "ff7e0dbf",
   "metadata": {
    "execution": {
     "iopub.execute_input": "2024-02-06T03:21:24.790611Z",
     "iopub.status.busy": "2024-02-06T03:21:24.790165Z",
     "iopub.status.idle": "2024-02-06T03:21:24.810165Z",
     "shell.execute_reply": "2024-02-06T03:21:24.808552Z",
     "shell.execute_reply.started": "2024-02-06T03:21:24.790580Z"
    }
   },
   "outputs": [
    {
     "name": "stdout",
     "output_type": "stream",
     "text": [
      "<class 'pandas.core.frame.DataFrame'>\n",
      "RangeIndex: 62423 entries, 0 to 62422\n",
      "Data columns (total 3 columns):\n",
      " #   Column   Non-Null Count  Dtype \n",
      "---  ------   --------------  ----- \n",
      " 0   movieId  62423 non-null  int64 \n",
      " 1   title    62423 non-null  object\n",
      " 2   genres   62423 non-null  object\n",
      "dtypes: int64(1), object(2)\n",
      "memory usage: 1.4+ MB\n"
     ]
    }
   ],
   "source": [
    "movies_df.info()"
   ]
  },
  {
   "cell_type": "code",
   "execution_count": 16,
   "id": "3f004f13",
   "metadata": {
    "execution": {
     "iopub.execute_input": "2024-02-06T03:21:28.491541Z",
     "iopub.status.busy": "2024-02-06T03:21:28.491091Z",
     "iopub.status.idle": "2024-02-06T03:21:28.509861Z",
     "shell.execute_reply": "2024-02-06T03:21:28.508418Z",
     "shell.execute_reply.started": "2024-02-06T03:21:28.491505Z"
    }
   },
   "outputs": [
    {
     "name": "stdout",
     "output_type": "stream",
     "text": [
      "<class 'pandas.core.frame.DataFrame'>\n",
      "RangeIndex: 27278 entries, 0 to 27277\n",
      "Data columns (total 6 columns):\n",
      " #   Column         Non-Null Count  Dtype  \n",
      "---  ------         --------------  -----  \n",
      " 0   movieId        27278 non-null  int64  \n",
      " 1   title_cast     17210 non-null  object \n",
      " 2   director       17404 non-null  object \n",
      " 3   runtime        15189 non-null  float64\n",
      " 4   budget         7906 non-null   object \n",
      " 5   plot_keywords  16200 non-null  object \n",
      "dtypes: float64(1), int64(1), object(4)\n",
      "memory usage: 1.2+ MB\n"
     ]
    }
   ],
   "source": [
    "imdb_df.info()"
   ]
  },
  {
   "cell_type": "code",
   "execution_count": 17,
   "id": "52b4ba92",
   "metadata": {
    "execution": {
     "iopub.execute_input": "2024-02-06T03:21:33.430531Z",
     "iopub.status.busy": "2024-02-06T03:21:33.430084Z",
     "iopub.status.idle": "2024-02-06T03:21:33.444290Z",
     "shell.execute_reply": "2024-02-06T03:21:33.442876Z",
     "shell.execute_reply.started": "2024-02-06T03:21:33.430500Z"
    }
   },
   "outputs": [
    {
     "name": "stdout",
     "output_type": "stream",
     "text": [
      "<class 'pandas.core.frame.DataFrame'>\n",
      "RangeIndex: 62423 entries, 0 to 62422\n",
      "Data columns (total 3 columns):\n",
      " #   Column   Non-Null Count  Dtype  \n",
      "---  ------   --------------  -----  \n",
      " 0   movieId  62423 non-null  int64  \n",
      " 1   imdbId   62423 non-null  int64  \n",
      " 2   tmdbId   62316 non-null  float64\n",
      "dtypes: float64(1), int64(2)\n",
      "memory usage: 1.4 MB\n"
     ]
    }
   ],
   "source": [
    "links_df.info()"
   ]
  },
  {
   "cell_type": "code",
   "execution_count": 18,
   "id": "504c1e80",
   "metadata": {
    "execution": {
     "iopub.execute_input": "2024-02-06T03:21:37.479692Z",
     "iopub.status.busy": "2024-02-06T03:21:37.479285Z",
     "iopub.status.idle": "2024-02-06T03:21:37.490381Z",
     "shell.execute_reply": "2024-02-06T03:21:37.489512Z",
     "shell.execute_reply.started": "2024-02-06T03:21:37.479662Z"
    }
   },
   "outputs": [
    {
     "name": "stdout",
     "output_type": "stream",
     "text": [
      "<class 'pandas.core.frame.DataFrame'>\n",
      "RangeIndex: 15584448 entries, 0 to 15584447\n",
      "Data columns (total 3 columns):\n",
      " #   Column     Dtype  \n",
      "---  ------     -----  \n",
      " 0   movieId    int64  \n",
      " 1   tagId      int64  \n",
      " 2   relevance  float64\n",
      "dtypes: float64(1), int64(2)\n",
      "memory usage: 356.7 MB\n"
     ]
    }
   ],
   "source": [
    "genome_score.info()"
   ]
  },
  {
   "cell_type": "code",
   "execution_count": 19,
   "id": "c87c085a",
   "metadata": {
    "execution": {
     "iopub.execute_input": "2024-02-06T03:21:39.992832Z",
     "iopub.status.busy": "2024-02-06T03:21:39.991904Z",
     "iopub.status.idle": "2024-02-06T03:21:40.005161Z",
     "shell.execute_reply": "2024-02-06T03:21:40.003834Z",
     "shell.execute_reply.started": "2024-02-06T03:21:39.992782Z"
    }
   },
   "outputs": [
    {
     "name": "stdout",
     "output_type": "stream",
     "text": [
      "<class 'pandas.core.frame.DataFrame'>\n",
      "RangeIndex: 1128 entries, 0 to 1127\n",
      "Data columns (total 2 columns):\n",
      " #   Column  Non-Null Count  Dtype \n",
      "---  ------  --------------  ----- \n",
      " 0   tagId   1128 non-null   int64 \n",
      " 1   tag     1128 non-null   object\n",
      "dtypes: int64(1), object(1)\n",
      "memory usage: 17.8+ KB\n"
     ]
    }
   ],
   "source": [
    "genome_tags.info()"
   ]
  },
  {
   "cell_type": "code",
   "execution_count": 20,
   "id": "d30f2029",
   "metadata": {
    "execution": {
     "iopub.execute_input": "2024-02-06T03:21:44.029976Z",
     "iopub.status.busy": "2024-02-06T03:21:44.029555Z",
     "iopub.status.idle": "2024-02-06T03:21:44.041467Z",
     "shell.execute_reply": "2024-02-06T03:21:44.040588Z",
     "shell.execute_reply.started": "2024-02-06T03:21:44.029946Z"
    }
   },
   "outputs": [
    {
     "name": "stdout",
     "output_type": "stream",
     "text": [
      "<class 'pandas.core.frame.DataFrame'>\n",
      "RangeIndex: 5000019 entries, 0 to 5000018\n",
      "Data columns (total 2 columns):\n",
      " #   Column  Dtype  \n",
      "---  ------  -----  \n",
      " 0   Id      object \n",
      " 1   rating  float64\n",
      "dtypes: float64(1), object(1)\n",
      "memory usage: 76.3+ MB\n"
     ]
    }
   ],
   "source": [
    "sample_submission.info()"
   ]
  },
  {
   "cell_type": "markdown",
   "id": "37aac59a",
   "metadata": {},
   "source": [
    "<a id=\"three\"></a>\n",
    "## 4. Exploratory Data Analysis (EDA)\n",
    "<a class=\"anchor\" id=\"1.1\"></a>\n",
    "<a href=#cont>Back to Table of Contents</a>"
   ]
  },
  {
   "cell_type": "markdown",
   "id": "9b376b97",
   "metadata": {},
   "source": [
    "Exploratory Data Analysis (EDA) is a fundamental part of the Machine Learning process. The data is analysed in order to extract information that a model may overlook. In this section, we will summarise the main characteritics of the data and also look into the sentiment classes provided in our training datasets."
   ]
  },
  {
   "cell_type": "markdown",
   "id": "915366a8",
   "metadata": {},
   "source": [
    "#### Using a For Loop to check the shape of each dataframe."
   ]
  },
  {
   "cell_type": "code",
   "execution_count": 21,
   "id": "aa62c06c",
   "metadata": {},
   "outputs": [
    {
     "name": "stdout",
     "output_type": "stream",
     "text": [
      "(10000038, 4)\n",
      "\n",
      "(5000019, 2)\n",
      "\n",
      "(1093360, 4)\n",
      "\n",
      "(62423, 3)\n",
      "\n",
      "(62423, 3)\n",
      "\n",
      "(27278, 6)\n",
      "\n",
      "(1128, 2)\n",
      "\n",
      "(15584448, 3)\n"
     ]
    }
   ],
   "source": [
    "list_of_all_dataframes = [ train_df, test_df, tags_df, movies_df, links_df, imdb_df, genome_tags, genome_score]\n",
    "\n",
    "for each in list_of_all_dataframes:\n",
    "    print(each.shape)\n",
    "# https://stackoverflow.com/questions/68158905/using-for-loop-to-print-shape-of-multiple-dataframes"
   ]
  },
  {
   "cell_type": "markdown",
   "id": "41544669",
   "metadata": {},
   "source": [
    "From above, it can be seen that:\n",
    "- train has ~10M rows, and 4 columns\n",
    "- test has ~5M rows, and 2 columns\n",
    "- tags has ~1.1M rows, and 4 columns\n",
    "- movies has ~63 500 rows, and 3 columns\n",
    "- links has ~62 300 rows, and 3 columns\n",
    "- imdb has ~27 300 rows, and 6 columns\n",
    "- genome_tags has ~1100 rows, and 2 columns\n",
    "- genome_scores has ~15.6M rows, and 3 columns"
   ]
  },
  {
   "cell_type": "markdown",
   "id": "a6f340fd",
   "metadata": {},
   "source": [
    "#### Let's look at a distribution of the ratings given by users. Here we see that viewers generally are on the kinder end of the rating spectrum, with a far higher proportion of positive reviews (> 3) being given over negative ones (< 3)."
   ]
  },
  {
   "cell_type": "code",
   "execution_count": 22,
   "id": "09c4cb78",
   "metadata": {},
   "outputs": [
    {
     "name": "stdout",
     "output_type": "stream",
     "text": [
      "Average rating in dataset: 3.5333951730983424\n"
     ]
    },
    {
     "data": {
      "image/png": "[encoded data removed]",
      "text/plain": [
       "<Figure size 1000x500 with 1 Axes>"
      ]
     },
     "metadata": {},
     "output_type": "display_data"
    }
   ],
   "source": [
    "with sns.axes_style('white'):\n",
    "    g = sns.catplot(x=\"rating\", data= train_df, aspect=2.0, kind='count')\n",
    "    g.set_ylabels(\"Total number of ratings\")\n",
    "print(f'Average rating in dataset: {np.mean(train_df[\"rating\"])}')"
   ]
  },
  {
   "cell_type": "markdown",
   "id": "6e021256",
   "metadata": {},
   "source": [
    "#### Let's see the vote average"
   ]
  },
  {
   "cell_type": "code",
   "execution_count": 23,
   "id": "c1bf51cf",
   "metadata": {},
   "outputs": [
    {
     "data": {
      "text/plain": [
       "3.53"
      ]
     },
     "execution_count": 23,
     "metadata": {},
     "output_type": "execute_result"
    }
   ],
   "source": [
    "average_rating = round(train_df.rating.mean(),2)  # To 2 decimal places\n",
    "average_rating"
   ]
  },
  {
   "cell_type": "markdown",
   "id": "bd138c56",
   "metadata": {},
   "source": [
    "From the more than 10M ratings that we have, the average rating in 3.53."
   ]
  },
  {
   "cell_type": "markdown",
   "id": "cb8774c0",
   "metadata": {},
   "source": [
    "Now, let's for null values present in each column of each dataframe:"
   ]
  },
  {
   "cell_type": "code",
   "execution_count": 24,
   "id": "9ab948ec",
   "metadata": {},
   "outputs": [
    {
     "data": {
      "text/plain": [
       "userId       0\n",
       "movieId      0\n",
       "rating       0\n",
       "timestamp    0\n",
       "dtype: int64"
      ]
     },
     "execution_count": 24,
     "metadata": {},
     "output_type": "execute_result"
    }
   ],
   "source": [
    "train_df.isnull().sum()"
   ]
  },
  {
   "cell_type": "code",
   "execution_count": 25,
   "id": "07d9e6d9",
   "metadata": {},
   "outputs": [
    {
     "data": {
      "text/plain": [
       "userId     0\n",
       "movieId    0\n",
       "dtype: int64"
      ]
     },
     "execution_count": 25,
     "metadata": {},
     "output_type": "execute_result"
    }
   ],
   "source": [
    "test_df.isnull().sum()"
   ]
  },
  {
   "cell_type": "code",
   "execution_count": 26,
   "id": "6e4693a6",
   "metadata": {},
   "outputs": [
    {
     "data": {
      "text/plain": [
       "userId        0\n",
       "movieId       0\n",
       "tag          16\n",
       "timestamp     0\n",
       "dtype: int64"
      ]
     },
     "execution_count": 26,
     "metadata": {},
     "output_type": "execute_result"
    }
   ],
   "source": [
    "tags_df.isnull().sum()"
   ]
  },
  {
   "cell_type": "code",
   "execution_count": 27,
   "id": "265a4e33",
   "metadata": {},
   "outputs": [
    {
     "data": {
      "text/plain": [
       "movieId    0\n",
       "title      0\n",
       "genres     0\n",
       "dtype: int64"
      ]
     },
     "execution_count": 27,
     "metadata": {},
     "output_type": "execute_result"
    }
   ],
   "source": [
    "movies_df.isnull().sum()"
   ]
  },
  {
   "cell_type": "code",
   "execution_count": 28,
   "id": "b0ceaba0",
   "metadata": {},
   "outputs": [
    {
     "data": {
      "text/plain": [
       "movieId      0\n",
       "imdbId       0\n",
       "tmdbId     107\n",
       "dtype: int64"
      ]
     },
     "execution_count": 28,
     "metadata": {},
     "output_type": "execute_result"
    }
   ],
   "source": [
    "links_df.isnull().sum()"
   ]
  },
  {
   "cell_type": "code",
   "execution_count": 29,
   "id": "c4aa7f29",
   "metadata": {},
   "outputs": [
    {
     "data": {
      "text/plain": [
       "movieId              0\n",
       "title_cast       10068\n",
       "director          9874\n",
       "runtime          12089\n",
       "budget           19372\n",
       "plot_keywords    11078\n",
       "dtype: int64"
      ]
     },
     "execution_count": 29,
     "metadata": {},
     "output_type": "execute_result"
    }
   ],
   "source": [
    "imdb_df.isnull().sum()"
   ]
  },
  {
   "cell_type": "code",
   "execution_count": 30,
   "id": "96c6e48a",
   "metadata": {},
   "outputs": [
    {
     "data": {
      "text/plain": [
       "tagId    0\n",
       "tag      0\n",
       "dtype: int64"
      ]
     },
     "execution_count": 30,
     "metadata": {},
     "output_type": "execute_result"
    }
   ],
   "source": [
    "genome_tags.isnull().sum()"
   ]
  },
  {
   "cell_type": "code",
   "execution_count": 31,
   "id": "9c4c3c47",
   "metadata": {},
   "outputs": [
    {
     "data": {
      "text/plain": [
       "movieId      0\n",
       "tagId        0\n",
       "relevance    0\n",
       "dtype: int64"
      ]
     },
     "execution_count": 31,
     "metadata": {},
     "output_type": "execute_result"
    }
   ],
   "source": [
    "genome_score.isnull().sum()"
   ]
  },
  {
   "cell_type": "markdown",
   "id": "acd6aeca",
   "metadata": {},
   "source": [
    "From checking for the number of null values available in each dataframe, it is observed that the imdb dataframe has a high number of null values within the data set. We will decide on what to do to these null values later in the data engineering section."
   ]
  },
  {
   "cell_type": "markdown",
   "id": "7078e59a",
   "metadata": {},
   "source": [
    "#### Let's visualize the missing values columns in the dataframe (imdb_df) that had a significant amount of missing values"
   ]
  },
  {
   "cell_type": "code",
   "execution_count": 32,
   "id": "157a105c",
   "metadata": {},
   "outputs": [
    {
     "name": "stdout",
     "output_type": "stream",
     "text": [
      "Requirement already satisfied: missingno in c:\\users\\ctair\\anaconda3\\lib\\site-packages (0.5.2)\n",
      "\n",
      "Requirement already satisfied: numpy in c:\\users\\ctair\\anaconda3\\lib\\site-packages (from missingno) (1.24.3)\n",
      "\n",
      "Requirement already satisfied: matplotlib in c:\\users\\ctair\\anaconda3\\lib\\site-packages (from missingno) (3.7.1)\n",
      "\n",
      "Requirement already satisfied: scipy in c:\\users\\ctair\\anaconda3\\lib\\site-packages (from missingno) (1.10.1)\n",
      "\n",
      "Requirement already satisfied: seaborn in c:\\users\\ctair\\anaconda3\\lib\\site-packages (from missingno) (0.12.2)\n",
      "\n",
      "Requirement already satisfied: contourpy>=1.0.1 in c:\\users\\ctair\\anaconda3\\lib\\site-packages (from matplotlib->missingno) (1.0.5)\n",
      "\n",
      "Requirement already satisfied: cycler>=0.10 in c:\\users\\ctair\\anaconda3\\lib\\site-packages (from matplotlib->missingno) (0.11.0)\n",
      "\n",
      "Requirement already satisfied: fonttools>=4.22.0 in c:\\users\\ctair\\anaconda3\\lib\\site-packages (from matplotlib->missingno) (4.25.0)\n",
      "\n",
      "Requirement already satisfied: kiwisolver>=1.0.1 in c:\\users\\ctair\\anaconda3\\lib\\site-packages (from matplotlib->missingno) (1.4.4)\n",
      "\n",
      "Requirement already satisfied: packaging>=20.0 in c:\\users\\ctair\\anaconda3\\lib\\site-packages (from matplotlib->missingno) (23.0)\n",
      "\n",
      "Requirement already satisfied: pillow>=6.2.0 in c:\\users\\ctair\\anaconda3\\lib\\site-packages (from matplotlib->missingno) (9.4.0)\n",
      "\n",
      "Requirement already satisfied: pyparsing>=2.3.1 in c:\\users\\ctair\\anaconda3\\lib\\site-packages (from matplotlib->missingno) (3.0.9)\n",
      "\n",
      "Requirement already satisfied: python-dateutil>=2.7 in c:\\users\\ctair\\anaconda3\\lib\\site-packages (from matplotlib->missingno) (2.8.2)\n",
      "\n",
      "Requirement already satisfied: pandas>=0.25 in c:\\users\\ctair\\anaconda3\\lib\\site-packages (from seaborn->missingno) (1.5.3)\n",
      "\n",
      "Requirement already satisfied: pytz>=2020.1 in c:\\users\\ctair\\anaconda3\\lib\\site-packages (from pandas>=0.25->seaborn->missingno) (2022.7)\n",
      "\n",
      "Requirement already satisfied: six>=1.5 in c:\\users\\ctair\\anaconda3\\lib\\site-packages (from python-dateutil>=2.7->matplotlib->missingno) (1.16.0)\n"
     ]
    }
   ],
   "source": [
    "!pip install missingno"
   ]
  },
  {
   "cell_type": "code",
   "execution_count": 33,
   "id": "f203062a",
   "metadata": {},
   "outputs": [
    {
     "data": {
      "text/plain": [
       "Text(0.5, 1.0, 'MISSING VALUES IN EACH COLUMN')"
      ]
     },
     "execution_count": 33,
     "metadata": {},
     "output_type": "execute_result"
    },
    {
     "data": {
      "image/png": "[encoded data removed]",
      "text/plain": [
       "<Figure size 800x600 with 3 Axes>"
      ]
     },
     "metadata": {},
     "output_type": "display_data"
    }
   ],
   "source": [
    "import missingno \n",
    "#Python library for the exploratory visualization of missing data #install using !pip install missingno\n",
    "color= ['darkblue','blue','red','yellow','green','orange']\n",
    "missingno.bar(imdb_df,fontsize=8,color=color,figsize=(8,6))\n",
    "plt.title('MISSING VALUES IN EACH COLUMN',fontsize=15)"
   ]
  },
  {
   "cell_type": "markdown",
   "id": "1291cecc",
   "metadata": {},
   "source": [
    "From the imdb_df plot above, we observed that the budget column has the highest number of missing values, with 71% of the column's data being null. Other columns such as the title_cast, director, runtime, and plot_keywords also have missing values.\n",
    "- We have to find a way to deal with it."
   ]
  },
  {
   "cell_type": "code",
   "execution_count": 34,
   "id": "f46fcc40",
   "metadata": {},
   "outputs": [
    {
     "name": "stdout",
     "output_type": "stream",
     "text": [
      "14584    ZAR10,000,000\n",
      "\n",
      "23579     VEB4,273,248\n",
      "\n",
      "24115        UAH10,000\n",
      "\n",
      "24673    TWD50,000,000\n",
      "\n",
      "15111    TWD45,000,000\n",
      "\n",
      "             ...      \n",
      "\n",
      "27271              NaN\n",
      "\n",
      "27273              NaN\n",
      "\n",
      "27275              NaN\n",
      "\n",
      "27276              NaN\n",
      "\n",
      "27277              NaN\n",
      "\n",
      "Name: budget, Length: 27278, dtype: object\n"
     ]
    }
   ],
   "source": [
    "df_budget = imdb_df.sort_values(by='budget',ascending=False)\n",
    "print(df_budget.budget)"
   ]
  },
  {
   "cell_type": "markdown",
   "id": "802967e4",
   "metadata": {},
   "source": [
    "Looking at the output above, it can be seen that the values in the budget column are not stored in the same currency."
   ]
  },
  {
   "cell_type": "code",
   "execution_count": 35,
   "id": "fc8aaf19",
   "metadata": {},
   "outputs": [
    {
     "name": "stdout",
     "output_type": "stream",
     "text": [
      "['ZAR' 'VEB' 'UAH' 'TWD' 'TRL' 'THB' 'SIT' 'SGD' 'SEK' 'RUR' 'PTE' 'PLN'\n",
      "\n",
      " 'PHP' 'NZD' 'NOK' 'NLG' 'NGN' 'MYR' 'MXN' 'LVL' 'LTL' 'KRW' 'JPY' 'ITL'\n",
      "\n",
      " 'ISK' 'IRR' 'INR' 'ILS' 'IDR' 'HUF' 'HKD' 'GBP' 'FRF' 'FIM' 'EUR' 'ESP'\n",
      "\n",
      " 'EGP' 'DKK' 'DEM' 'CZK' 'COP' 'CNY' 'CLP' 'CHF' 'CAD' 'BRL' 'BND' 'BGL'\n",
      "\n",
      " 'BEF' 'AUD' 'ATS' 'ARS' '$99' '$98' '$95' '$94' '$93' '$92' '$90' '$9,'\n",
      "\n",
      " '$89' '$88' '$87' '$86' '$85' '$84' '$83' '$82' '$81' '$80' '$8,' '$79'\n",
      "\n",
      " '$78' '$76' '$75' '$74' '$73' '$72' '$71' '$70' '$7,' '$69' '$68' '$67'\n",
      "\n",
      " '$66' '$65' '$64' '$63' '$62' '$61' '$60' '$6,' '$6' '$59' '$58' '$57'\n",
      "\n",
      " '$56' '$55' '$54' '$53' '$52' '$51' '$50' '$5,' '$5' '$49' '$48' '$47'\n",
      "\n",
      " '$46' '$45' '$44' '$43' '$42' '$41' '$40' '$4,' '$4' '$39' '$38' '$37'\n",
      "\n",
      " '$36' '$35' '$34' '$33' '$32' '$31' '$30' '$3,' '$29' '$28' '$27' '$26'\n",
      "\n",
      " '$25' '$24' '$23' '$22' '$21' '$20' '$2,' '$19' '$18' '$17' '$16' '$15'\n",
      "\n",
      " '$14' '$13' '$12' '$11' '$10' '$1,' '$0' nan]\n"
     ]
    }
   ],
   "source": [
    "movies_ =imdb_df.sort_values(by='budget',ascending=False)\n",
    "print(movies_.budget.str[0:3].unique())"
   ]
  },
  {
   "cell_type": "markdown",
   "id": "5869bc99",
   "metadata": {},
   "source": [
    "It can be seen that the `budget` column has different units, namely:\n",
    "- ZAR\n",
    "- $\n",
    "- VEB\n",
    "- UAH\n",
    "- TWD\n",
    "- TRL\n",
    "- THB \n",
    "- SIT \n",
    "- SGD \n",
    "- SEK\n",
    "- RUR \n",
    "- PTE\n",
    "- PLN\n",
    "- PHP\n",
    "- NZD\n",
    "- NOK\n",
    "- NLG\n",
    "- NGN\n",
    "- MYR\n",
    "- MXN\n",
    "- LVL\n",
    "- LTL\n",
    "- KRW\n",
    "- JPY\n",
    "- ITL\n",
    "- ISK\n",
    "- IRR\n",
    "- INR\n",
    "- ILS\n",
    "- IDR\n",
    "- HUF'\n",
    "- HKD\n",
    "- GBP\n",
    "- FRF\n",
    "- FIM\n",
    "- EUR\n",
    "- ESP\n",
    "- EGP\n",
    "- DKK\n",
    "- DEM\n",
    "- CZK\n",
    "- COP\n",
    "- CNY\n",
    "- CLP\n",
    "- CHF\n",
    "- CAD\n",
    "- BRL\n",
    "- BND\n",
    "- BGL\n",
    "- BEF\n",
    "- AUD\n",
    "- ATS\n",
    "- ARS\n",
    "- as well as null values"
   ]
  },
  {
   "cell_type": "markdown",
   "id": "0e0f85d7",
   "metadata": {},
   "source": [
    "It is also worthy of note that this budget column might be dropped and not used for our collaboration system since the column contains more than 71% missing values. Imputing these values with the mean or the mode would create a more biased assumption of the budget column, and would not be a good representation of the column."
   ]
  },
  {
   "cell_type": "markdown",
   "id": "ee399513",
   "metadata": {},
   "source": [
    "#### Now, visualizing the most popular Genres:"
   ]
  },
  {
   "cell_type": "code",
   "execution_count": 36,
   "id": "19cbd1e5",
   "metadata": {},
   "outputs": [],
   "source": [
    "# Create dataframe containing only the movieId and genres\n",
    "movies_genres_split = pd.DataFrame(movies_df[['movieId', 'genres']],columns=['movieId', 'genres'])\n",
    "\n",
    "# Splitting the genres seperated by \"|\". Movie-genre combinations are stored as a list\n",
    "movies_genres_split.genres = movies_genres_split.genres.apply(lambda x: x.split('|'))\n",
    "\n",
    "# Creating the expanded dataframe where each movie-genre combination is in a seperate row\n",
    "movies_genres_split = pd.DataFrame([(x.movieId, d) for x in movies_genres_split.itertuples() for d in x.genres],\n",
    "                             columns=['movieId', 'genres'])"
   ]
  },
  {
   "cell_type": "code",
   "execution_count": 37,
   "id": "01112e13",
   "metadata": {},
   "outputs": [
    {
     "data": {
      "text/html": [
       "<div>\n",
       "<style scoped>\n",
       "    .dataframe tbody tr th:only-of-type {\n",
       "        vertical-align: middle;\n",
       "    }\n",
       "\n",
       "    .dataframe tbody tr th {\n",
       "        vertical-align: top;\n",
       "    }\n",
       "\n",
       "    .dataframe thead th {\n",
       "        text-align: right;\n",
       "    }\n",
       "</style>\n",
       "<table border=\"1\" class=\"dataframe\">\n",
       "  <thead>\n",
       "    <tr style=\"text-align: right;\">\n",
       "      <th></th>\n",
       "      <th>movieId</th>\n",
       "      <th>genres</th>\n",
       "    </tr>\n",
       "  </thead>\n",
       "  <tbody>\n",
       "    <tr>\n",
       "      <th>0</th>\n",
       "      <td>1</td>\n",
       "      <td>Adventure</td>\n",
       "    </tr>\n",
       "    <tr>\n",
       "      <th>1</th>\n",
       "      <td>1</td>\n",
       "      <td>Animation</td>\n",
       "    </tr>\n",
       "    <tr>\n",
       "      <th>2</th>\n",
       "      <td>1</td>\n",
       "      <td>Children</td>\n",
       "    </tr>\n",
       "    <tr>\n",
       "      <th>3</th>\n",
       "      <td>1</td>\n",
       "      <td>Comedy</td>\n",
       "    </tr>\n",
       "    <tr>\n",
       "      <th>4</th>\n",
       "      <td>1</td>\n",
       "      <td>Fantasy</td>\n",
       "    </tr>\n",
       "    <tr>\n",
       "      <th>5</th>\n",
       "      <td>2</td>\n",
       "      <td>Adventure</td>\n",
       "    </tr>\n",
       "    <tr>\n",
       "      <th>6</th>\n",
       "      <td>2</td>\n",
       "      <td>Children</td>\n",
       "    </tr>\n",
       "    <tr>\n",
       "      <th>7</th>\n",
       "      <td>2</td>\n",
       "      <td>Fantasy</td>\n",
       "    </tr>\n",
       "    <tr>\n",
       "      <th>8</th>\n",
       "      <td>3</td>\n",
       "      <td>Comedy</td>\n",
       "    </tr>\n",
       "    <tr>\n",
       "      <th>9</th>\n",
       "      <td>3</td>\n",
       "      <td>Romance</td>\n",
       "    </tr>\n",
       "  </tbody>\n",
       "</table>\n",
       "</div>"
      ],
      "text/plain": [
       "   movieId     genres\n",
       "0        1  Adventure\n",
       "1        1  Animation\n",
       "2        1   Children\n",
       "3        1     Comedy\n",
       "4        1    Fantasy\n",
       "5        2  Adventure\n",
       "6        2   Children\n",
       "7        2    Fantasy\n",
       "8        3     Comedy\n",
       "9        3    Romance"
      ]
     },
     "execution_count": 37,
     "metadata": {},
     "output_type": "execute_result"
    }
   ],
   "source": [
    "movies_genres_split.head(10)"
   ]
  },
  {
   "cell_type": "code",
   "execution_count": 38,
   "id": "5d8933b2",
   "metadata": {},
   "outputs": [
    {
     "data": {
      "image/png": "[encoded data removed]",
      "text/plain": [
       "<Figure size 1140x570 with 1 Axes>"
      ]
     },
     "metadata": {},
     "output_type": "display_data"
    }
   ],
   "source": [
    "# Ploting the genres in descending order\n",
    "plot = plt.figure(figsize=(12, 6), dpi =95)\n",
    "plt.title('Popular movie genres in descending order\\n', fontsize=18)\n",
    "sns.countplot(y=\"genres\", data=movies_genres_split,order=movies_genres_split['genres']\n",
    "              .value_counts(ascending=False).index, color='blue', ec= 'red', alpha=0.8)\n",
    "plt.ylabel('Genres')\n",
    "plt.xlabel('Count')\n",
    "plt.show()"
   ]
  },
  {
   "cell_type": "code",
   "execution_count": 39,
   "id": "f004eaa4",
   "metadata": {},
   "outputs": [
    {
     "data": {
      "text/html": [
       "<div>\n",
       "<style scoped>\n",
       "    .dataframe tbody tr th:only-of-type {\n",
       "        vertical-align: middle;\n",
       "    }\n",
       "\n",
       "    .dataframe tbody tr th {\n",
       "        vertical-align: top;\n",
       "    }\n",
       "\n",
       "    .dataframe thead th {\n",
       "        text-align: right;\n",
       "    }\n",
       "</style>\n",
       "<table border=\"1\" class=\"dataframe\">\n",
       "  <thead>\n",
       "    <tr style=\"text-align: right;\">\n",
       "      <th></th>\n",
       "      <th>count</th>\n",
       "      <th>mean</th>\n",
       "      <th>std</th>\n",
       "      <th>min</th>\n",
       "      <th>25%</th>\n",
       "      <th>50%</th>\n",
       "      <th>75%</th>\n",
       "      <th>max</th>\n",
       "    </tr>\n",
       "  </thead>\n",
       "  <tbody>\n",
       "    <tr>\n",
       "      <th>movieId</th>\n",
       "      <td>62423.0</td>\n",
       "      <td>122220.387646</td>\n",
       "      <td>63264.744844</td>\n",
       "      <td>1.0</td>\n",
       "      <td>82146.5</td>\n",
       "      <td>138022.0</td>\n",
       "      <td>173222.0</td>\n",
       "      <td>209171.0</td>\n",
       "    </tr>\n",
       "  </tbody>\n",
       "</table>\n",
       "</div>"
      ],
      "text/plain": [
       "           count           mean           std  min      25%       50%  \\\n",
       "movieId  62423.0  122220.387646  63264.744844  1.0  82146.5  138022.0   \n",
       "\n",
       "              75%       max  \n",
       "movieId  173222.0  209171.0  "
      ]
     },
     "execution_count": 39,
     "metadata": {},
     "output_type": "execute_result"
    }
   ],
   "source": [
    "movies_df.describe().T"
   ]
  },
  {
   "cell_type": "code",
   "execution_count": 40,
   "id": "12d5fd78",
   "metadata": {},
   "outputs": [
    {
     "name": "stdout",
     "output_type": "stream",
     "text": [
      "<class 'pandas.core.frame.DataFrame'>\n",
      "\n",
      "RangeIndex: 62423 entries, 0 to 62422\n",
      "\n",
      "Data columns (total 3 columns):\n",
      "\n",
      " #   Column   Non-Null Count  Dtype \n",
      "\n",
      "---  ------   --------------  ----- \n",
      "\n",
      " 0   movieId  62423 non-null  int64 \n",
      "\n",
      " 1   title    62423 non-null  object\n",
      "\n",
      " 2   genres   62423 non-null  object\n",
      "\n",
      "dtypes: int64(1), object(2)\n",
      "\n",
      "memory usage: 1.4+ MB\n"
     ]
    }
   ],
   "source": [
    "movies_df.info()"
   ]
  },
  {
   "cell_type": "markdown",
   "id": "a20e1cc1",
   "metadata": {},
   "source": [
    "**N/B:** For analysis purpose, the code below joins the 'movies', 'imbd', and 'train' dataframes together where movieId in one dataframe is the same as the movieId in the other dataframe."
   ]
  },
  {
   "cell_type": "code",
   "execution_count": 41,
   "id": "33ca78f3",
   "metadata": {},
   "outputs": [
    {
     "data": {
      "text/html": [
       "<div>\n",
       "<style scoped>\n",
       "    .dataframe tbody tr th:only-of-type {\n",
       "        vertical-align: middle;\n",
       "    }\n",
       "\n",
       "    .dataframe tbody tr th {\n",
       "        vertical-align: top;\n",
       "    }\n",
       "\n",
       "    .dataframe thead th {\n",
       "        text-align: right;\n",
       "    }\n",
       "</style>\n",
       "<table border=\"1\" class=\"dataframe\">\n",
       "  <thead>\n",
       "    <tr style=\"text-align: right;\">\n",
       "      <th></th>\n",
       "      <th>movieId</th>\n",
       "      <th>title</th>\n",
       "      <th>genres</th>\n",
       "      <th>title_cast</th>\n",
       "      <th>director</th>\n",
       "      <th>runtime</th>\n",
       "      <th>budget</th>\n",
       "      <th>plot_keywords</th>\n",
       "      <th>userId</th>\n",
       "      <th>rating</th>\n",
       "      <th>timestamp</th>\n",
       "    </tr>\n",
       "  </thead>\n",
       "  <tbody>\n",
       "    <tr>\n",
       "      <th>0</th>\n",
       "      <td>1</td>\n",
       "      <td>Toy Story (1995)</td>\n",
       "      <td>Adventure|Animation|Children|Comedy|Fantasy</td>\n",
       "      <td>Tom Hanks|Tim Allen|Don Rickles|Jim Varney|Wal...</td>\n",
       "      <td>John Lasseter</td>\n",
       "      <td>81.0</td>\n",
       "      <td>$30,000,000</td>\n",
       "      <td>toy|rivalry|cowboy|cgi animation</td>\n",
       "      <td>158849</td>\n",
       "      <td>5.0</td>\n",
       "      <td>994716786</td>\n",
       "    </tr>\n",
       "    <tr>\n",
       "      <th>1</th>\n",
       "      <td>1</td>\n",
       "      <td>Toy Story (1995)</td>\n",
       "      <td>Adventure|Animation|Children|Comedy|Fantasy</td>\n",
       "      <td>Tom Hanks|Tim Allen|Don Rickles|Jim Varney|Wal...</td>\n",
       "      <td>John Lasseter</td>\n",
       "      <td>81.0</td>\n",
       "      <td>$30,000,000</td>\n",
       "      <td>toy|rivalry|cowboy|cgi animation</td>\n",
       "      <td>97203</td>\n",
       "      <td>5.0</td>\n",
       "      <td>942683155</td>\n",
       "    </tr>\n",
       "  </tbody>\n",
       "</table>\n",
       "</div>"
      ],
      "text/plain": [
       "   movieId             title                                       genres  \\\n",
       "0        1  Toy Story (1995)  Adventure|Animation|Children|Comedy|Fantasy   \n",
       "1        1  Toy Story (1995)  Adventure|Animation|Children|Comedy|Fantasy   \n",
       "\n",
       "                                          title_cast       director  runtime  \\\n",
       "0  Tom Hanks|Tim Allen|Don Rickles|Jim Varney|Wal...  John Lasseter     81.0   \n",
       "1  Tom Hanks|Tim Allen|Don Rickles|Jim Varney|Wal...  John Lasseter     81.0   \n",
       "\n",
       "        budget                     plot_keywords  userId  rating  timestamp  \n",
       "0  $30,000,000  toy|rivalry|cowboy|cgi animation  158849     5.0  994716786  \n",
       "1  $30,000,000  toy|rivalry|cowboy|cgi animation   97203     5.0  942683155  "
      ]
     },
     "execution_count": 41,
     "metadata": {},
     "output_type": "execute_result"
    }
   ],
   "source": [
    "imdb_movies = pd.merge(movies_df,imdb_df, on=\"movieId\")\n",
    "df = imdb_movies.merge(train_df, on=\"movieId\")\n",
    "df.head(2)"
   ]
  },
  {
   "cell_type": "code",
   "execution_count": 42,
   "id": "98775490",
   "metadata": {},
   "outputs": [
    {
     "data": {
      "text/plain": [
       "(9633031, 11)"
      ]
     },
     "execution_count": 42,
     "metadata": {},
     "output_type": "execute_result"
    }
   ],
   "source": [
    "df.shape"
   ]
  },
  {
   "cell_type": "markdown",
   "id": "e86ebee4",
   "metadata": {},
   "source": [
    "We can see that after merging the 3 datasets, the dataframe now has ~9.63M rows of data."
   ]
  },
  {
   "cell_type": "markdown",
   "id": "3bb65128",
   "metadata": {},
   "source": [
    "Now, let's check the average rating of each movie"
   ]
  },
  {
   "cell_type": "code",
   "execution_count": 43,
   "id": "97907139",
   "metadata": {},
   "outputs": [
    {
     "data": {
      "text/plain": [
       "title\n",
       "\"Great Performances\" Cats (1998)             2.753731\n",
       "$ (Dollars) (1971)                           2.875000\n",
       "$5 a Day (2008)                              3.125000\n",
       "$9.99 (2008)                                 3.222222\n",
       "$ellebrity (Sellebrity) (2012)               2.250000\n",
       "                                               ...   \n",
       "À nous la liberté (Freedom for Us) (1931)    3.746914\n",
       "À propos de Nice (1930)                      3.200000\n",
       "Árido Movie (2005)                           3.000000\n",
       "Üvegtigris (2001)                            3.142857\n",
       "貞子3D (2012)                                  2.562500\n",
       "Name: rating, Length: 23534, dtype: float64"
      ]
     },
     "execution_count": 43,
     "metadata": {},
     "output_type": "execute_result"
    }
   ],
   "source": [
    "# Getting the average rating for all the ratings related to a specific movie title.\n",
    "df.groupby(by='title')['rating'].mean()"
   ]
  },
  {
   "cell_type": "code",
   "execution_count": 44,
   "id": "a223071b",
   "metadata": {},
   "outputs": [
    {
     "data": {
      "text/plain": [
       "title\n",
       "Wrestling for Jesus: The Tale of T-Money (2011)       5.0\n",
       "The... Beautiful Country (1977)                       5.0\n",
       "Only Daughter (2013)                                  5.0\n",
       "Vasermil (2007)                                       5.0\n",
       "Day the Universe Changed, The (1985)                  5.0\n",
       "                                                     ... \n",
       "Time to Kill (Tempo di uccidere) (1989)               0.5\n",
       "Dangerous Place, A (2012)                             0.5\n",
       "Dana Carvey: Squatting Monkeys Tell No Lies (2008)    0.5\n",
       "I Love, You Love (Ja milujem, ty milujes) (1989)      0.5\n",
       "Beautiful Girl (2014)                                 0.5\n",
       "Name: rating, Length: 23534, dtype: float64"
      ]
     },
     "execution_count": 44,
     "metadata": {},
     "output_type": "execute_result"
    }
   ],
   "source": [
    "# Sorting the movies from highest average rating to the lowest rating\n",
    "df.groupby(by='title')['rating'].mean().sort_values(ascending=False)"
   ]
  },
  {
   "cell_type": "markdown",
   "id": "fd69362e",
   "metadata": {},
   "source": [
    "From the results above, it seems as though there are some movies that are highly rated. Would it be a good idea to just watch those movies based on their average rating? Let's find out!\n",
    "\n",
    "Below, the number of people that rated each movie is explored."
   ]
  },
  {
   "cell_type": "code",
   "execution_count": 45,
   "id": "c878e656",
   "metadata": {},
   "outputs": [
    {
     "data": {
      "text/plain": [
       "title\n",
       "Shawshank Redemption, The (1994)    32831\n",
       "Forrest Gump (1994)                 32383\n",
       "Pulp Fiction (1994)                 31697\n",
       "Silence of the Lambs, The (1991)    29444\n",
       "Matrix, The (1999)                  29014\n",
       "                                    ...  \n",
       "Christopher Strong (1933)               1\n",
       "Secrets of the Tribe (2010)             1\n",
       "Trails (Veredas) (1978)                 1\n",
       "Train Ride to Hollywood (1975)          1\n",
       "Seoul Searching (2015)                  1\n",
       "Name: rating, Length: 23534, dtype: int64"
      ]
     },
     "execution_count": 45,
     "metadata": {},
     "output_type": "execute_result"
    }
   ],
   "source": [
    "df.groupby(by='title')['rating'].count().sort_values(ascending=False)"
   ]
  },
  {
   "cell_type": "markdown",
   "id": "242f68aa",
   "metadata": {},
   "source": [
    "Let's take for example, the movie called `Vietnam in HD(2011)`, which has an average rating of 5.0, and observe how many people actually rated this movie."
   ]
  },
  {
   "cell_type": "code",
   "execution_count": 46,
   "id": "3d080254",
   "metadata": {},
   "outputs": [
    {
     "data": {
      "text/plain": [
       "title\n",
       "Vietnam in HD (2011)    1\n",
       "Name: rating, dtype: int64"
      ]
     },
     "execution_count": 46,
     "metadata": {},
     "output_type": "execute_result"
    }
   ],
   "source": [
    "df[df['title'] == \"Vietnam in HD (2011)\"].groupby(by='title')['rating'].count()"
   ]
  },
  {
   "cell_type": "markdown",
   "id": "d51ae9a6",
   "metadata": {},
   "source": [
    "It is observed that the movie was rated by only 1 person. Wow! no too much confidence for recommending the movie to someone else, right?"
   ]
  },
  {
   "cell_type": "markdown",
   "id": "5a9edd3d",
   "metadata": {},
   "source": [
    "Let's now take a look at another movie, such as `Forest Gump (1994)`"
   ]
  },
  {
   "cell_type": "code",
   "execution_count": 47,
   "id": "922534d5",
   "metadata": {},
   "outputs": [
    {
     "data": {
      "text/plain": [
       "title\n",
       "Forrest Gump (1994)    32383\n",
       "Name: rating, dtype: int64"
      ]
     },
     "execution_count": 47,
     "metadata": {},
     "output_type": "execute_result"
    }
   ],
   "source": [
    "df[df['title'] == \"Forrest Gump (1994)\"].groupby(by='title')['rating'].count()"
   ]
  },
  {
   "cell_type": "markdown",
   "id": "11f78312",
   "metadata": {},
   "source": [
    "Using, the mean rating for this same movie, we we have:"
   ]
  },
  {
   "cell_type": "code",
   "execution_count": 48,
   "id": "de42956b",
   "metadata": {},
   "outputs": [
    {
     "data": {
      "text/plain": [
       "title\n",
       "Forrest Gump (1994)    4.047216\n",
       "Name: rating, dtype: float64"
      ]
     },
     "execution_count": 48,
     "metadata": {},
     "output_type": "execute_result"
    }
   ],
   "source": [
    "df[df['title'] == \"Forrest Gump (1994)\"].groupby(by='title')['rating'].mean()"
   ]
  },
  {
   "cell_type": "markdown",
   "id": "508e051c",
   "metadata": {},
   "source": [
    "The above movie has an average rating of 4, and was rated by 32383 people. This would definitely be a better movie to recommend than the first movie. Though, it's also worth noting that just because the movie was highly rated by many people, it does not mean that the next person would definitely love it too, which is why we still need a recommender system."
   ]
  },
  {
   "cell_type": "code",
   "execution_count": 49,
   "id": "a0152e5e",
   "metadata": {},
   "outputs": [
    {
     "name": "stdout",
     "output_type": "stream",
     "text": [
      "Runtime column mode is:  0    101.0\n",
      "\n",
      "Name: runtime, dtype: float64\n",
      "\n",
      "\n",
      "\n",
      "Runtime mean is:  116.09646355365558\n"
     ]
    }
   ],
   "source": [
    "print('Runtime column mode is: ',df.runtime.mode())\n",
    "\n",
    "print('\\nRuntime mean is: ',df.runtime.mean())"
   ]
  },
  {
   "cell_type": "markdown",
   "id": "afb33905",
   "metadata": {},
   "source": [
    "From above, it is observed that the modal run time is 101 minutes(1 hour 41 minutes), and the average run time is 116 minutes(1 hour 51 minutes)."
   ]
  },
  {
   "cell_type": "code",
   "execution_count": 50,
   "id": "e8a7b446",
   "metadata": {},
   "outputs": [
    {
     "data": {
      "text/plain": [
       "<Axes: xlabel='rating', ylabel='count'>"
      ]
     },
     "execution_count": 50,
     "metadata": {},
     "output_type": "execute_result"
    },
    {
     "data": {
      "image/png": "[encoded data removed]",
      "text/plain": [
       "<Figure size 800x600 with 1 Axes>"
      ]
     },
     "metadata": {},
     "output_type": "display_data"
    }
   ],
   "source": [
    "#Movies Ratings\n",
    "plt.figure(figsize=(8,6))\n",
    "sns.set(style=\"darkgrid\")\n",
    "sns.countplot(x=\"rating\", data= df, palette=\"Set2\", order=df['rating'].value_counts().index[0:10])"
   ]
  },
  {
   "cell_type": "code",
   "execution_count": 51,
   "id": "584cdef8",
   "metadata": {},
   "outputs": [
    {
     "data": {
      "text/plain": [
       "62423"
      ]
     },
     "execution_count": 51,
     "metadata": {},
     "output_type": "execute_result"
    }
   ],
   "source": [
    "len(movies_df.movieId.unique())"
   ]
  },
  {
   "cell_type": "code",
   "execution_count": 52,
   "id": "566a8b8a",
   "metadata": {},
   "outputs": [
    {
     "data": {
      "text/plain": [
       "48213"
      ]
     },
     "execution_count": 52,
     "metadata": {},
     "output_type": "execute_result"
    }
   ],
   "source": [
    "len(train_df.movieId.unique())"
   ]
  },
  {
   "cell_type": "markdown",
   "id": "11a2a21f",
   "metadata": {},
   "source": [
    "From the results above, it can be seen that out of 62,423 unique movies, 48, 213 movies have been rated."
   ]
  },
  {
   "cell_type": "code",
   "execution_count": 53,
   "id": "31478d69",
   "metadata": {},
   "outputs": [
    {
     "name": "stderr",
     "output_type": "stream",
     "text": [
      "C:\\Users\\ctair\\AppData\\Local\\Temp\\ipykernel_27152\\1339047704.py:2: FutureWarning: \n",
      "\n",
      "\n",
      "\n",
      "`shade` is now deprecated in favor of `fill`; setting `fill=True`.\n",
      "\n",
      "This will become an error in seaborn v0.14.0; please update your code.\n",
      "\n",
      "\n",
      "\n",
      "  sns.kdeplot(data=df['runtime'], shade=True)\n"
     ]
    },
    {
     "data": {
      "text/plain": [
       "<Axes: xlabel='runtime', ylabel='Density'>"
      ]
     },
     "execution_count": 53,
     "metadata": {},
     "output_type": "execute_result"
    },
    {
     "data": {
      "image/png": "[encoded data removed]",
      "text/plain": [
       "<Figure size 640x480 with 1 Axes>"
      ]
     },
     "metadata": {},
     "output_type": "display_data"
    }
   ],
   "source": [
    "sns.set(style=\"darkgrid\")\n",
    "sns.kdeplot(data=df['runtime'], shade=True)"
   ]
  },
  {
   "cell_type": "markdown",
   "id": "e0b716f9",
   "metadata": {},
   "source": [
    "- It is can be seen that a good amount of movies have a run time of around 75-120 minutes.\n",
    "- Very few movies have a runtime of less than 50 minutes, or more than 200 minutes"
   ]
  },
  {
   "cell_type": "code",
   "execution_count": 54,
   "id": "3f8b1e44",
   "metadata": {},
   "outputs": [
    {
     "data": {
      "text/plain": [
       "count    6.979973e+06\n",
       "mean     1.160965e+02\n",
       "std      2.409290e+01\n",
       "min      1.000000e+00\n",
       "25%      1.000000e+02\n",
       "50%      1.130000e+02\n",
       "75%      1.280000e+02\n",
       "max      8.770000e+02\n",
       "Name: runtime, dtype: float64"
      ]
     },
     "execution_count": 54,
     "metadata": {},
     "output_type": "execute_result"
    }
   ],
   "source": [
    "df['runtime'].describe().T"
   ]
  },
  {
   "cell_type": "markdown",
   "id": "a0ce3cbe",
   "metadata": {},
   "source": [
    "Moreover, It can be seen that there are outliers in the runtime column of the data set.\n",
    "- There are values which are above 877, and\n",
    "- Values as low as 1.0"
   ]
  },
  {
   "cell_type": "markdown",
   "id": "b0773ef4",
   "metadata": {},
   "source": [
    "<a id=\"four\"></a>\n",
    "### 5. Feature Engineering\n",
    "<a class=\"anchor\" id=\"1.1\"></a>\n",
    "<a href=#cont>Back to Table of Contents</a>"
   ]
  },
  {
   "cell_type": "markdown",
   "id": "9f9eca64",
   "metadata": {},
   "source": [
    "#### 5.1 The Content-Based Recommender System \n",
    "This recommender system suggests similar items based on a particular item. This system uses item meta-data, such as genre, director, description, actors, etc. for movies, to make recommendations.\n",
    "\n",
    "#### Why do we do content-based filtering?\n",
    "\n",
    "If we want to get a new item in an e-commerce site, for example, and we don't have any clicks/views/rating on that item, or we could have new users on the platform, and we have no idea about what they like or do not like. In this case, we carryout content-based filtering in order to get a similarity between different items so that another similar item can be recommended.\n",
    "\n",
    "In this recommender system, the content of the movie (`genres`, `plot_keywords`,  `title_cast`, and `title`) is used to find its similarity with other movies, then the movies that are most likely to be similar are recommended."
   ]
  },
  {
   "cell_type": "code",
   "execution_count": 55,
   "id": "a539fd8e",
   "metadata": {},
   "outputs": [],
   "source": [
    "imdb_movies = pd.merge(movies_df,imdb_df, on=\"movieId\")"
   ]
  },
  {
   "cell_type": "code",
   "execution_count": 56,
   "id": "5db4f614",
   "metadata": {},
   "outputs": [
    {
     "data": {
      "text/html": [
       "<div>\n",
       "<style scoped>\n",
       "    .dataframe tbody tr th:only-of-type {\n",
       "        vertical-align: middle;\n",
       "    }\n",
       "\n",
       "    .dataframe tbody tr th {\n",
       "        vertical-align: top;\n",
       "    }\n",
       "\n",
       "    .dataframe thead th {\n",
       "        text-align: right;\n",
       "    }\n",
       "</style>\n",
       "<table border=\"1\" class=\"dataframe\">\n",
       "  <thead>\n",
       "    <tr style=\"text-align: right;\">\n",
       "      <th></th>\n",
       "      <th>movieId</th>\n",
       "      <th>title</th>\n",
       "      <th>genres</th>\n",
       "      <th>title_cast</th>\n",
       "      <th>director</th>\n",
       "      <th>runtime</th>\n",
       "      <th>budget</th>\n",
       "      <th>plot_keywords</th>\n",
       "    </tr>\n",
       "  </thead>\n",
       "  <tbody>\n",
       "    <tr>\n",
       "      <th>0</th>\n",
       "      <td>1</td>\n",
       "      <td>Toy Story (1995)</td>\n",
       "      <td>Adventure|Animation|Children|Comedy|Fantasy</td>\n",
       "      <td>Tom Hanks|Tim Allen|Don Rickles|Jim Varney|Wal...</td>\n",
       "      <td>John Lasseter</td>\n",
       "      <td>81.0</td>\n",
       "      <td>$30,000,000</td>\n",
       "      <td>toy|rivalry|cowboy|cgi animation</td>\n",
       "    </tr>\n",
       "    <tr>\n",
       "      <th>1</th>\n",
       "      <td>2</td>\n",
       "      <td>Jumanji (1995)</td>\n",
       "      <td>Adventure|Children|Fantasy</td>\n",
       "      <td>Robin Williams|Jonathan Hyde|Kirsten Dunst|Bra...</td>\n",
       "      <td>Jonathan Hensleigh</td>\n",
       "      <td>104.0</td>\n",
       "      <td>$65,000,000</td>\n",
       "      <td>board game|adventurer|fight|game</td>\n",
       "    </tr>\n",
       "    <tr>\n",
       "      <th>2</th>\n",
       "      <td>3</td>\n",
       "      <td>Grumpier Old Men (1995)</td>\n",
       "      <td>Comedy|Romance</td>\n",
       "      <td>Walter Matthau|Jack Lemmon|Sophia Loren|Ann-Ma...</td>\n",
       "      <td>Mark Steven Johnson</td>\n",
       "      <td>101.0</td>\n",
       "      <td>$25,000,000</td>\n",
       "      <td>boat|lake|neighbor|rivalry</td>\n",
       "    </tr>\n",
       "    <tr>\n",
       "      <th>3</th>\n",
       "      <td>4</td>\n",
       "      <td>Waiting to Exhale (1995)</td>\n",
       "      <td>Comedy|Drama|Romance</td>\n",
       "      <td>Whitney Houston|Angela Bassett|Loretta Devine|...</td>\n",
       "      <td>Terry McMillan</td>\n",
       "      <td>124.0</td>\n",
       "      <td>$16,000,000</td>\n",
       "      <td>black american|husband wife relationship|betra...</td>\n",
       "    </tr>\n",
       "    <tr>\n",
       "      <th>4</th>\n",
       "      <td>5</td>\n",
       "      <td>Father of the Bride Part II (1995)</td>\n",
       "      <td>Comedy</td>\n",
       "      <td>Steve Martin|Diane Keaton|Martin Short|Kimberl...</td>\n",
       "      <td>Albert Hackett</td>\n",
       "      <td>106.0</td>\n",
       "      <td>$30,000,000</td>\n",
       "      <td>fatherhood|doberman|dog|mansion</td>\n",
       "    </tr>\n",
       "  </tbody>\n",
       "</table>\n",
       "</div>"
      ],
      "text/plain": [
       "   movieId                               title  \\\n",
       "0        1                    Toy Story (1995)   \n",
       "1        2                      Jumanji (1995)   \n",
       "2        3             Grumpier Old Men (1995)   \n",
       "3        4            Waiting to Exhale (1995)   \n",
       "4        5  Father of the Bride Part II (1995)   \n",
       "\n",
       "                                        genres  \\\n",
       "0  Adventure|Animation|Children|Comedy|Fantasy   \n",
       "1                   Adventure|Children|Fantasy   \n",
       "2                               Comedy|Romance   \n",
       "3                         Comedy|Drama|Romance   \n",
       "4                                       Comedy   \n",
       "\n",
       "                                          title_cast             director  \\\n",
       "0  Tom Hanks|Tim Allen|Don Rickles|Jim Varney|Wal...        John Lasseter   \n",
       "1  Robin Williams|Jonathan Hyde|Kirsten Dunst|Bra...   Jonathan Hensleigh   \n",
       "2  Walter Matthau|Jack Lemmon|Sophia Loren|Ann-Ma...  Mark Steven Johnson   \n",
       "3  Whitney Houston|Angela Bassett|Loretta Devine|...       Terry McMillan   \n",
       "4  Steve Martin|Diane Keaton|Martin Short|Kimberl...       Albert Hackett   \n",
       "\n",
       "   runtime       budget                                      plot_keywords  \n",
       "0     81.0  $30,000,000                   toy|rivalry|cowboy|cgi animation  \n",
       "1    104.0  $65,000,000                   board game|adventurer|fight|game  \n",
       "2    101.0  $25,000,000                         boat|lake|neighbor|rivalry  \n",
       "3    124.0  $16,000,000  black american|husband wife relationship|betra...  \n",
       "4    106.0  $30,000,000                    fatherhood|doberman|dog|mansion  "
      ]
     },
     "execution_count": 56,
     "metadata": {},
     "output_type": "execute_result"
    }
   ],
   "source": [
    "imdb_movies.head()"
   ]
  },
  {
   "cell_type": "code",
   "execution_count": 57,
   "id": "8533bcfe",
   "metadata": {},
   "outputs": [
    {
     "data": {
      "text/plain": [
       "movieId              0\n",
       "title                0\n",
       "genres               0\n",
       "title_cast        9665\n",
       "director          9519\n",
       "runtime          11345\n",
       "budget           17583\n",
       "plot_keywords    10482\n",
       "dtype: int64"
      ]
     },
     "execution_count": 57,
     "metadata": {},
     "output_type": "execute_result"
    }
   ],
   "source": [
    "imdb_movies.isnull().sum()"
   ]
  },
  {
   "cell_type": "markdown",
   "id": "5b7571a2",
   "metadata": {},
   "source": [
    "From actions below, the runtime columns null values are now replaced by the mean."
   ]
  },
  {
   "cell_type": "code",
   "execution_count": 58,
   "id": "6cd71888",
   "metadata": {},
   "outputs": [],
   "source": [
    "imdb_movies['runtime'].fillna(imdb_movies['runtime'].mean(), inplace=True)"
   ]
  },
  {
   "cell_type": "code",
   "execution_count": 59,
   "id": "39c5025b",
   "metadata": {},
   "outputs": [
    {
     "data": {
      "text/plain": [
       "movieId              0\n",
       "title                0\n",
       "genres               0\n",
       "title_cast        9665\n",
       "director          9519\n",
       "runtime              0\n",
       "budget           17583\n",
       "plot_keywords    10482\n",
       "dtype: int64"
      ]
     },
     "execution_count": 59,
     "metadata": {},
     "output_type": "execute_result"
    }
   ],
   "source": [
    "imdb_movies.isnull().sum()"
   ]
  },
  {
   "cell_type": "code",
   "execution_count": 60,
   "id": "354f91a7",
   "metadata": {},
   "outputs": [],
   "source": [
    "# Convert 'title_cast' column to string\n",
    "imdb_movies['title_cast'] = imdb_movies['title_cast'].astype(str)\n",
    "# Convert 'plot_keywords' column to string\n",
    "imdb_movies['plot_keywords'] = imdb_movies['plot_keywords'].astype(str)"
   ]
  },
  {
   "cell_type": "markdown",
   "id": "e47a822b",
   "metadata": {},
   "source": [
    "All null values of the columns in the imdb_movies dataframe are replaced by zero's. This is done for the columns: title_cast, director, budget, and plot_keywords. The reason these columns are not imputed, and are just filled with zero's is that each movie surely has a different set of cast, plot keywords, etc. So, imputing them with another value other than zero would not be a good representation of the movies themselves."
   ]
  },
  {
   "cell_type": "code",
   "execution_count": 61,
   "id": "0f8e8fd2",
   "metadata": {},
   "outputs": [
    {
     "data": {
      "text/html": [
       "<div>\n",
       "<style scoped>\n",
       "    .dataframe tbody tr th:only-of-type {\n",
       "        vertical-align: middle;\n",
       "    }\n",
       "\n",
       "    .dataframe tbody tr th {\n",
       "        vertical-align: top;\n",
       "    }\n",
       "\n",
       "    .dataframe thead th {\n",
       "        text-align: right;\n",
       "    }\n",
       "</style>\n",
       "<table border=\"1\" class=\"dataframe\">\n",
       "  <thead>\n",
       "    <tr style=\"text-align: right;\">\n",
       "      <th></th>\n",
       "      <th>movieId</th>\n",
       "      <th>title</th>\n",
       "      <th>genres</th>\n",
       "      <th>title_cast</th>\n",
       "      <th>director</th>\n",
       "      <th>runtime</th>\n",
       "      <th>budget</th>\n",
       "      <th>plot_keywords</th>\n",
       "    </tr>\n",
       "  </thead>\n",
       "  <tbody>\n",
       "    <tr>\n",
       "      <th>0</th>\n",
       "      <td>1</td>\n",
       "      <td>Toy Story (1995)</td>\n",
       "      <td>Adventure|Animation|Children|Comedy|Fantasy</td>\n",
       "      <td>Tom Hanks|Tim Allen|Don Rickles|Jim Varney|Wal...</td>\n",
       "      <td>John Lasseter</td>\n",
       "      <td>81.0</td>\n",
       "      <td>$30,000,000</td>\n",
       "      <td>toy|rivalry|cowboy|cgi animation</td>\n",
       "    </tr>\n",
       "    <tr>\n",
       "      <th>1</th>\n",
       "      <td>2</td>\n",
       "      <td>Jumanji (1995)</td>\n",
       "      <td>Adventure|Children|Fantasy</td>\n",
       "      <td>Robin Williams|Jonathan Hyde|Kirsten Dunst|Bra...</td>\n",
       "      <td>Jonathan Hensleigh</td>\n",
       "      <td>104.0</td>\n",
       "      <td>$65,000,000</td>\n",
       "      <td>board game|adventurer|fight|game</td>\n",
       "    </tr>\n",
       "    <tr>\n",
       "      <th>2</th>\n",
       "      <td>3</td>\n",
       "      <td>Grumpier Old Men (1995)</td>\n",
       "      <td>Comedy|Romance</td>\n",
       "      <td>Walter Matthau|Jack Lemmon|Sophia Loren|Ann-Ma...</td>\n",
       "      <td>Mark Steven Johnson</td>\n",
       "      <td>101.0</td>\n",
       "      <td>$25,000,000</td>\n",
       "      <td>boat|lake|neighbor|rivalry</td>\n",
       "    </tr>\n",
       "    <tr>\n",
       "      <th>3</th>\n",
       "      <td>4</td>\n",
       "      <td>Waiting to Exhale (1995)</td>\n",
       "      <td>Comedy|Drama|Romance</td>\n",
       "      <td>Whitney Houston|Angela Bassett|Loretta Devine|...</td>\n",
       "      <td>Terry McMillan</td>\n",
       "      <td>124.0</td>\n",
       "      <td>$16,000,000</td>\n",
       "      <td>black american|husband wife relationship|betra...</td>\n",
       "    </tr>\n",
       "    <tr>\n",
       "      <th>4</th>\n",
       "      <td>5</td>\n",
       "      <td>Father of the Bride Part II (1995)</td>\n",
       "      <td>Comedy</td>\n",
       "      <td>Steve Martin|Diane Keaton|Martin Short|Kimberl...</td>\n",
       "      <td>Albert Hackett</td>\n",
       "      <td>106.0</td>\n",
       "      <td>$30,000,000</td>\n",
       "      <td>fatherhood|doberman|dog|mansion</td>\n",
       "    </tr>\n",
       "    <tr>\n",
       "      <th>...</th>\n",
       "      <td>...</td>\n",
       "      <td>...</td>\n",
       "      <td>...</td>\n",
       "      <td>...</td>\n",
       "      <td>...</td>\n",
       "      <td>...</td>\n",
       "      <td>...</td>\n",
       "      <td>...</td>\n",
       "    </tr>\n",
       "    <tr>\n",
       "      <th>24861</th>\n",
       "      <td>131254</td>\n",
       "      <td>Kein Bund für's Leben (2007)</td>\n",
       "      <td>Comedy</td>\n",
       "      <td>Franz Dinda|Florian Lukas|Axel Stein|Kailas Ma...</td>\n",
       "      <td>Carsten Funke</td>\n",
       "      <td>85.0</td>\n",
       "      <td>0</td>\n",
       "      <td>man wrapped in a towel|man wears a thong|male ...</td>\n",
       "    </tr>\n",
       "    <tr>\n",
       "      <th>24862</th>\n",
       "      <td>131256</td>\n",
       "      <td>Feuer, Eis &amp; Dosenbier (2002)</td>\n",
       "      <td>Comedy</td>\n",
       "      <td>Rick Kavanian|Axel Stein|Eva Habermann|Christo...</td>\n",
       "      <td>Matthias Dinter</td>\n",
       "      <td>83.0</td>\n",
       "      <td>DEM5,800,000</td>\n",
       "      <td>ski|ski resort|ampersand in title|drink in title</td>\n",
       "    </tr>\n",
       "    <tr>\n",
       "      <th>24863</th>\n",
       "      <td>131258</td>\n",
       "      <td>The Pirates (2014)</td>\n",
       "      <td>Adventure</td>\n",
       "      <td>Nam-gil Kim|Ye-jin Son|Hae-Jin Yoo|Kyeong-yeon...</td>\n",
       "      <td>Seong-il Cheon</td>\n",
       "      <td>130.0</td>\n",
       "      <td>0</td>\n",
       "      <td>pirate|sword fight|korea|bandit</td>\n",
       "    </tr>\n",
       "    <tr>\n",
       "      <th>24864</th>\n",
       "      <td>131260</td>\n",
       "      <td>Rentun Ruusu (2001)</td>\n",
       "      <td>(no genres listed)</td>\n",
       "      <td>Martti Suosalo|Ilkka Koivula|Vexi Salmi|Riitta...</td>\n",
       "      <td>Timo Koivusalo</td>\n",
       "      <td>102.0</td>\n",
       "      <td>0</td>\n",
       "      <td>friend|friendship|television show|restaurant</td>\n",
       "    </tr>\n",
       "    <tr>\n",
       "      <th>24865</th>\n",
       "      <td>131262</td>\n",
       "      <td>Innocence (2014)</td>\n",
       "      <td>Adventure|Fantasy|Horror</td>\n",
       "      <td>Sophie Lane Curtis|Kelly Reilly|Graham Phillip...</td>\n",
       "      <td>Hilary Brougher</td>\n",
       "      <td>96.0</td>\n",
       "      <td>0</td>\n",
       "      <td>hex|witch|virgin|blood</td>\n",
       "    </tr>\n",
       "  </tbody>\n",
       "</table>\n",
       "<p>24866 rows × 8 columns</p>\n",
       "</div>"
      ],
      "text/plain": [
       "       movieId                               title  \\\n",
       "0            1                    Toy Story (1995)   \n",
       "1            2                      Jumanji (1995)   \n",
       "2            3             Grumpier Old Men (1995)   \n",
       "3            4            Waiting to Exhale (1995)   \n",
       "4            5  Father of the Bride Part II (1995)   \n",
       "...        ...                                 ...   \n",
       "24861   131254        Kein Bund für's Leben (2007)   \n",
       "24862   131256       Feuer, Eis & Dosenbier (2002)   \n",
       "24863   131258                  The Pirates (2014)   \n",
       "24864   131260                 Rentun Ruusu (2001)   \n",
       "24865   131262                    Innocence (2014)   \n",
       "\n",
       "                                            genres  \\\n",
       "0      Adventure|Animation|Children|Comedy|Fantasy   \n",
       "1                       Adventure|Children|Fantasy   \n",
       "2                                   Comedy|Romance   \n",
       "3                             Comedy|Drama|Romance   \n",
       "4                                           Comedy   \n",
       "...                                            ...   \n",
       "24861                                       Comedy   \n",
       "24862                                       Comedy   \n",
       "24863                                    Adventure   \n",
       "24864                           (no genres listed)   \n",
       "24865                     Adventure|Fantasy|Horror   \n",
       "\n",
       "                                              title_cast             director  \\\n",
       "0      Tom Hanks|Tim Allen|Don Rickles|Jim Varney|Wal...        John Lasseter   \n",
       "1      Robin Williams|Jonathan Hyde|Kirsten Dunst|Bra...   Jonathan Hensleigh   \n",
       "2      Walter Matthau|Jack Lemmon|Sophia Loren|Ann-Ma...  Mark Steven Johnson   \n",
       "3      Whitney Houston|Angela Bassett|Loretta Devine|...       Terry McMillan   \n",
       "4      Steve Martin|Diane Keaton|Martin Short|Kimberl...       Albert Hackett   \n",
       "...                                                  ...                  ...   \n",
       "24861  Franz Dinda|Florian Lukas|Axel Stein|Kailas Ma...        Carsten Funke   \n",
       "24862  Rick Kavanian|Axel Stein|Eva Habermann|Christo...      Matthias Dinter   \n",
       "24863  Nam-gil Kim|Ye-jin Son|Hae-Jin Yoo|Kyeong-yeon...       Seong-il Cheon   \n",
       "24864  Martti Suosalo|Ilkka Koivula|Vexi Salmi|Riitta...       Timo Koivusalo   \n",
       "24865  Sophie Lane Curtis|Kelly Reilly|Graham Phillip...      Hilary Brougher   \n",
       "\n",
       "       runtime        budget  \\\n",
       "0         81.0   $30,000,000   \n",
       "1        104.0   $65,000,000   \n",
       "2        101.0   $25,000,000   \n",
       "3        124.0   $16,000,000   \n",
       "4        106.0   $30,000,000   \n",
       "...        ...           ...   \n",
       "24861     85.0             0   \n",
       "24862     83.0  DEM5,800,000   \n",
       "24863    130.0             0   \n",
       "24864    102.0             0   \n",
       "24865     96.0             0   \n",
       "\n",
       "                                           plot_keywords  \n",
       "0                       toy|rivalry|cowboy|cgi animation  \n",
       "1                       board game|adventurer|fight|game  \n",
       "2                             boat|lake|neighbor|rivalry  \n",
       "3      black american|husband wife relationship|betra...  \n",
       "4                        fatherhood|doberman|dog|mansion  \n",
       "...                                                  ...  \n",
       "24861  man wrapped in a towel|man wears a thong|male ...  \n",
       "24862   ski|ski resort|ampersand in title|drink in title  \n",
       "24863                    pirate|sword fight|korea|bandit  \n",
       "24864       friend|friendship|television show|restaurant  \n",
       "24865                             hex|witch|virgin|blood  \n",
       "\n",
       "[24866 rows x 8 columns]"
      ]
     },
     "execution_count": 61,
     "metadata": {},
     "output_type": "execute_result"
    }
   ],
   "source": [
    "imdb_movies.replace(np.nan,0)"
   ]
  },
  {
   "cell_type": "code",
   "execution_count": 62,
   "id": "d723ae19",
   "metadata": {},
   "outputs": [
    {
     "data": {
      "text/plain": [
       "movieId              0\n",
       "title                0\n",
       "genres               0\n",
       "title_cast           0\n",
       "director          9519\n",
       "runtime              0\n",
       "budget           17583\n",
       "plot_keywords        0\n",
       "dtype: int64"
      ]
     },
     "execution_count": 62,
     "metadata": {},
     "output_type": "execute_result"
    }
   ],
   "source": [
    "imdb_movies.isnull().sum()"
   ]
  },
  {
   "cell_type": "code",
   "execution_count": 63,
   "id": "56176025",
   "metadata": {},
   "outputs": [],
   "source": [
    "#imdb_movies[imdb_movies['title_cast','director', 'budget', 'plot_keywords'] = imdb_movies[imdb_movies['title_cast','director', 'budget', 'plot_keywords']].fillna(0)\n",
    "#imdb_movies.fillna(0, subset=['title_cast','director', 'budget', 'plot_keywords'], inplace=True)"
   ]
  },
  {
   "cell_type": "code",
   "execution_count": 64,
   "id": "406bf78a",
   "metadata": {},
   "outputs": [
    {
     "data": {
      "text/html": [
       "<div>\n",
       "<style scoped>\n",
       "    .dataframe tbody tr th:only-of-type {\n",
       "        vertical-align: middle;\n",
       "    }\n",
       "\n",
       "    .dataframe tbody tr th {\n",
       "        vertical-align: top;\n",
       "    }\n",
       "\n",
       "    .dataframe thead th {\n",
       "        text-align: right;\n",
       "    }\n",
       "</style>\n",
       "<table border=\"1\" class=\"dataframe\">\n",
       "  <thead>\n",
       "    <tr style=\"text-align: right;\">\n",
       "      <th></th>\n",
       "      <th>movieId</th>\n",
       "      <th>title</th>\n",
       "      <th>genres</th>\n",
       "      <th>title_cast</th>\n",
       "      <th>director</th>\n",
       "      <th>runtime</th>\n",
       "      <th>budget</th>\n",
       "      <th>plot_keywords</th>\n",
       "      <th>clean_title</th>\n",
       "    </tr>\n",
       "  </thead>\n",
       "  <tbody>\n",
       "    <tr>\n",
       "      <th>0</th>\n",
       "      <td>1</td>\n",
       "      <td>Toy Story (1995)</td>\n",
       "      <td>Adventure|Animation|Children|Comedy|Fantasy</td>\n",
       "      <td>Tom Hanks|Tim Allen|Don Rickles|Jim Varney|Wal...</td>\n",
       "      <td>John Lasseter</td>\n",
       "      <td>81.0</td>\n",
       "      <td>$30,000,000</td>\n",
       "      <td>toy|rivalry|cowboy|cgi animation</td>\n",
       "      <td>Toy Story  1995</td>\n",
       "    </tr>\n",
       "    <tr>\n",
       "      <th>1</th>\n",
       "      <td>2</td>\n",
       "      <td>Jumanji (1995)</td>\n",
       "      <td>Adventure|Children|Fantasy</td>\n",
       "      <td>Robin Williams|Jonathan Hyde|Kirsten Dunst|Bra...</td>\n",
       "      <td>Jonathan Hensleigh</td>\n",
       "      <td>104.0</td>\n",
       "      <td>$65,000,000</td>\n",
       "      <td>board game|adventurer|fight|game</td>\n",
       "      <td>Jumanji  1995</td>\n",
       "    </tr>\n",
       "    <tr>\n",
       "      <th>2</th>\n",
       "      <td>3</td>\n",
       "      <td>Grumpier Old Men (1995)</td>\n",
       "      <td>Comedy|Romance</td>\n",
       "      <td>Walter Matthau|Jack Lemmon|Sophia Loren|Ann-Ma...</td>\n",
       "      <td>Mark Steven Johnson</td>\n",
       "      <td>101.0</td>\n",
       "      <td>$25,000,000</td>\n",
       "      <td>boat|lake|neighbor|rivalry</td>\n",
       "      <td>Grumpier Old Men  1995</td>\n",
       "    </tr>\n",
       "    <tr>\n",
       "      <th>3</th>\n",
       "      <td>4</td>\n",
       "      <td>Waiting to Exhale (1995)</td>\n",
       "      <td>Comedy|Drama|Romance</td>\n",
       "      <td>Whitney Houston|Angela Bassett|Loretta Devine|...</td>\n",
       "      <td>Terry McMillan</td>\n",
       "      <td>124.0</td>\n",
       "      <td>$16,000,000</td>\n",
       "      <td>black american|husband wife relationship|betra...</td>\n",
       "      <td>Waiting to Exhale  1995</td>\n",
       "    </tr>\n",
       "    <tr>\n",
       "      <th>4</th>\n",
       "      <td>5</td>\n",
       "      <td>Father of the Bride Part II (1995)</td>\n",
       "      <td>Comedy</td>\n",
       "      <td>Steve Martin|Diane Keaton|Martin Short|Kimberl...</td>\n",
       "      <td>Albert Hackett</td>\n",
       "      <td>106.0</td>\n",
       "      <td>$30,000,000</td>\n",
       "      <td>fatherhood|doberman|dog|mansion</td>\n",
       "      <td>Father of the Bride Part II  1995</td>\n",
       "    </tr>\n",
       "  </tbody>\n",
       "</table>\n",
       "</div>"
      ],
      "text/plain": [
       "   movieId                               title  \\\n",
       "0        1                    Toy Story (1995)   \n",
       "1        2                      Jumanji (1995)   \n",
       "2        3             Grumpier Old Men (1995)   \n",
       "3        4            Waiting to Exhale (1995)   \n",
       "4        5  Father of the Bride Part II (1995)   \n",
       "\n",
       "                                        genres  \\\n",
       "0  Adventure|Animation|Children|Comedy|Fantasy   \n",
       "1                   Adventure|Children|Fantasy   \n",
       "2                               Comedy|Romance   \n",
       "3                         Comedy|Drama|Romance   \n",
       "4                                       Comedy   \n",
       "\n",
       "                                          title_cast             director  \\\n",
       "0  Tom Hanks|Tim Allen|Don Rickles|Jim Varney|Wal...        John Lasseter   \n",
       "1  Robin Williams|Jonathan Hyde|Kirsten Dunst|Bra...   Jonathan Hensleigh   \n",
       "2  Walter Matthau|Jack Lemmon|Sophia Loren|Ann-Ma...  Mark Steven Johnson   \n",
       "3  Whitney Houston|Angela Bassett|Loretta Devine|...       Terry McMillan   \n",
       "4  Steve Martin|Diane Keaton|Martin Short|Kimberl...       Albert Hackett   \n",
       "\n",
       "   runtime       budget                                      plot_keywords  \\\n",
       "0     81.0  $30,000,000                   toy|rivalry|cowboy|cgi animation   \n",
       "1    104.0  $65,000,000                   board game|adventurer|fight|game   \n",
       "2    101.0  $25,000,000                         boat|lake|neighbor|rivalry   \n",
       "3    124.0  $16,000,000  black american|husband wife relationship|betra...   \n",
       "4    106.0  $30,000,000                    fatherhood|doberman|dog|mansion   \n",
       "\n",
       "                          clean_title  \n",
       "0                    Toy Story  1995   \n",
       "1                      Jumanji  1995   \n",
       "2             Grumpier Old Men  1995   \n",
       "3            Waiting to Exhale  1995   \n",
       "4  Father of the Bride Part II  1995   "
      ]
     },
     "execution_count": 64,
     "metadata": {},
     "output_type": "execute_result"
    }
   ],
   "source": [
    "import re\n",
    "# Using regex to clean the movie titles and storing it in the new columns\n",
    "def clean_titles(title):\n",
    "    return re.sub(\"[^a-zA-Z0-9 ]\", \" \", title)\n",
    "\n",
    "imdb_movies[\"clean_title\"] = imdb_movies[\"title\"].apply(clean_titles)\n",
    "imdb_movies.head()"
   ]
  },
  {
   "cell_type": "code",
   "execution_count": 65,
   "id": "0f92cee1",
   "metadata": {},
   "outputs": [],
   "source": [
    "imdb_movies[\"clean_title\"] = imdb_movies[\"title\"].apply(lambda x: x.lower())"
   ]
  },
  {
   "cell_type": "code",
   "execution_count": 66,
   "id": "ffd72301",
   "metadata": {},
   "outputs": [
    {
     "data": {
      "text/html": [
       "<div>\n",
       "<style scoped>\n",
       "    .dataframe tbody tr th:only-of-type {\n",
       "        vertical-align: middle;\n",
       "    }\n",
       "\n",
       "    .dataframe tbody tr th {\n",
       "        vertical-align: top;\n",
       "    }\n",
       "\n",
       "    .dataframe thead th {\n",
       "        text-align: right;\n",
       "    }\n",
       "</style>\n",
       "<table border=\"1\" class=\"dataframe\">\n",
       "  <thead>\n",
       "    <tr style=\"text-align: right;\">\n",
       "      <th></th>\n",
       "      <th>movieId</th>\n",
       "      <th>title</th>\n",
       "      <th>genres</th>\n",
       "      <th>title_cast</th>\n",
       "      <th>director</th>\n",
       "      <th>runtime</th>\n",
       "      <th>budget</th>\n",
       "      <th>plot_keywords</th>\n",
       "      <th>clean_title</th>\n",
       "    </tr>\n",
       "  </thead>\n",
       "  <tbody>\n",
       "    <tr>\n",
       "      <th>0</th>\n",
       "      <td>1</td>\n",
       "      <td>Toy Story (1995)</td>\n",
       "      <td>Adventure|Animation|Children|Comedy|Fantasy</td>\n",
       "      <td>Tom Hanks|Tim Allen|Don Rickles|Jim Varney|Wal...</td>\n",
       "      <td>John Lasseter</td>\n",
       "      <td>81.0</td>\n",
       "      <td>$30,000,000</td>\n",
       "      <td>toy|rivalry|cowboy|cgi animation</td>\n",
       "      <td>toy story (1995)</td>\n",
       "    </tr>\n",
       "    <tr>\n",
       "      <th>1</th>\n",
       "      <td>2</td>\n",
       "      <td>Jumanji (1995)</td>\n",
       "      <td>Adventure|Children|Fantasy</td>\n",
       "      <td>Robin Williams|Jonathan Hyde|Kirsten Dunst|Bra...</td>\n",
       "      <td>Jonathan Hensleigh</td>\n",
       "      <td>104.0</td>\n",
       "      <td>$65,000,000</td>\n",
       "      <td>board game|adventurer|fight|game</td>\n",
       "      <td>jumanji (1995)</td>\n",
       "    </tr>\n",
       "  </tbody>\n",
       "</table>\n",
       "</div>"
      ],
      "text/plain": [
       "   movieId             title                                       genres  \\\n",
       "0        1  Toy Story (1995)  Adventure|Animation|Children|Comedy|Fantasy   \n",
       "1        2    Jumanji (1995)                   Adventure|Children|Fantasy   \n",
       "\n",
       "                                          title_cast            director  \\\n",
       "0  Tom Hanks|Tim Allen|Don Rickles|Jim Varney|Wal...       John Lasseter   \n",
       "1  Robin Williams|Jonathan Hyde|Kirsten Dunst|Bra...  Jonathan Hensleigh   \n",
       "\n",
       "   runtime       budget                     plot_keywords       clean_title  \n",
       "0     81.0  $30,000,000  toy|rivalry|cowboy|cgi animation  toy story (1995)  \n",
       "1    104.0  $65,000,000  board game|adventurer|fight|game    jumanji (1995)  "
      ]
     },
     "execution_count": 66,
     "metadata": {},
     "output_type": "execute_result"
    }
   ],
   "source": [
    "imdb_movies.head(2)"
   ]
  },
  {
   "cell_type": "code",
   "execution_count": 67,
   "id": "ce57bcb2",
   "metadata": {},
   "outputs": [],
   "source": [
    "imdb_movies['clean_title'] = imdb_movies['clean_title'].apply(lambda x: x.replace(\"(\",\"\").replace(\")\",\"\"))"
   ]
  },
  {
   "cell_type": "code",
   "execution_count": 68,
   "id": "2a4fd46e",
   "metadata": {},
   "outputs": [
    {
     "data": {
      "text/html": [
       "<div>\n",
       "<style scoped>\n",
       "    .dataframe tbody tr th:only-of-type {\n",
       "        vertical-align: middle;\n",
       "    }\n",
       "\n",
       "    .dataframe tbody tr th {\n",
       "        vertical-align: top;\n",
       "    }\n",
       "\n",
       "    .dataframe thead th {\n",
       "        text-align: right;\n",
       "    }\n",
       "</style>\n",
       "<table border=\"1\" class=\"dataframe\">\n",
       "  <thead>\n",
       "    <tr style=\"text-align: right;\">\n",
       "      <th></th>\n",
       "      <th>movieId</th>\n",
       "      <th>title</th>\n",
       "      <th>genres</th>\n",
       "      <th>title_cast</th>\n",
       "      <th>director</th>\n",
       "      <th>runtime</th>\n",
       "      <th>budget</th>\n",
       "      <th>plot_keywords</th>\n",
       "      <th>clean_title</th>\n",
       "    </tr>\n",
       "  </thead>\n",
       "  <tbody>\n",
       "    <tr>\n",
       "      <th>0</th>\n",
       "      <td>1</td>\n",
       "      <td>Toy Story (1995)</td>\n",
       "      <td>Adventure|Animation|Children|Comedy|Fantasy</td>\n",
       "      <td>Tom Hanks|Tim Allen|Don Rickles|Jim Varney|Wal...</td>\n",
       "      <td>John Lasseter</td>\n",
       "      <td>81.0</td>\n",
       "      <td>$30,000,000</td>\n",
       "      <td>toy|rivalry|cowboy|cgi animation</td>\n",
       "      <td>toy story 1995</td>\n",
       "    </tr>\n",
       "    <tr>\n",
       "      <th>1</th>\n",
       "      <td>2</td>\n",
       "      <td>Jumanji (1995)</td>\n",
       "      <td>Adventure|Children|Fantasy</td>\n",
       "      <td>Robin Williams|Jonathan Hyde|Kirsten Dunst|Bra...</td>\n",
       "      <td>Jonathan Hensleigh</td>\n",
       "      <td>104.0</td>\n",
       "      <td>$65,000,000</td>\n",
       "      <td>board game|adventurer|fight|game</td>\n",
       "      <td>jumanji 1995</td>\n",
       "    </tr>\n",
       "  </tbody>\n",
       "</table>\n",
       "</div>"
      ],
      "text/plain": [
       "   movieId             title                                       genres  \\\n",
       "0        1  Toy Story (1995)  Adventure|Animation|Children|Comedy|Fantasy   \n",
       "1        2    Jumanji (1995)                   Adventure|Children|Fantasy   \n",
       "\n",
       "                                          title_cast            director  \\\n",
       "0  Tom Hanks|Tim Allen|Don Rickles|Jim Varney|Wal...       John Lasseter   \n",
       "1  Robin Williams|Jonathan Hyde|Kirsten Dunst|Bra...  Jonathan Hensleigh   \n",
       "\n",
       "   runtime       budget                     plot_keywords     clean_title  \n",
       "0     81.0  $30,000,000  toy|rivalry|cowboy|cgi animation  toy story 1995  \n",
       "1    104.0  $65,000,000  board game|adventurer|fight|game    jumanji 1995  "
      ]
     },
     "execution_count": 68,
     "metadata": {},
     "output_type": "execute_result"
    }
   ],
   "source": [
    "imdb_movies.head(2)"
   ]
  },
  {
   "cell_type": "markdown",
   "id": "98927edd",
   "metadata": {},
   "source": [
    "#### Removing  the \"|\" from the title_cast, genres, and plot_keywords columns"
   ]
  },
  {
   "cell_type": "code",
   "execution_count": 69,
   "id": "94540ca4",
   "metadata": {},
   "outputs": [
    {
     "name": "stderr",
     "output_type": "stream",
     "text": [
      "C:\\Users\\ctair\\AppData\\Local\\Temp\\ipykernel_21800\\2914716174.py:1: FutureWarning: The default value of regex will change from True to False in a future version. In addition, single character regular expressions will *not* be treated as literal strings when regex=True.\n",
      "\n",
      "  imdb_movies.title_cast = imdb_movies.title_cast.str.replace('|', ' ')\n",
      "\n",
      "C:\\Users\\ctair\\AppData\\Local\\Temp\\ipykernel_21800\\2914716174.py:2: FutureWarning: The default value of regex will change from True to False in a future version. In addition, single character regular expressions will *not* be treated as literal strings when regex=True.\n",
      "\n",
      "  imdb_movies.genres = imdb_movies.genres.str.replace('|', ' ')\n",
      "\n",
      "C:\\Users\\ctair\\AppData\\Local\\Temp\\ipykernel_21800\\2914716174.py:3: FutureWarning: The default value of regex will change from True to False in a future version. In addition, single character regular expressions will *not* be treated as literal strings when regex=True.\n",
      "\n",
      "  imdb_movies.plot_keywords = imdb_movies.plot_keywords.str.replace('|', ' ')\n"
     ]
    },
    {
     "data": {
      "text/html": [
       "<div>\n",
       "<style scoped>\n",
       "    .dataframe tbody tr th:only-of-type {\n",
       "        vertical-align: middle;\n",
       "    }\n",
       "\n",
       "    .dataframe tbody tr th {\n",
       "        vertical-align: top;\n",
       "    }\n",
       "\n",
       "    .dataframe thead th {\n",
       "        text-align: right;\n",
       "    }\n",
       "</style>\n",
       "<table border=\"1\" class=\"dataframe\">\n",
       "  <thead>\n",
       "    <tr style=\"text-align: right;\">\n",
       "      <th></th>\n",
       "      <th>movieId</th>\n",
       "      <th>title</th>\n",
       "      <th>genres</th>\n",
       "      <th>title_cast</th>\n",
       "      <th>director</th>\n",
       "      <th>runtime</th>\n",
       "      <th>budget</th>\n",
       "      <th>plot_keywords</th>\n",
       "      <th>clean_title</th>\n",
       "    </tr>\n",
       "  </thead>\n",
       "  <tbody>\n",
       "    <tr>\n",
       "      <th>0</th>\n",
       "      <td>1</td>\n",
       "      <td>Toy Story (1995)</td>\n",
       "      <td>Adventure Animation Children Comedy Fantasy</td>\n",
       "      <td>Tom Hanks Tim Allen Don Rickles Jim Varney Wal...</td>\n",
       "      <td>John Lasseter</td>\n",
       "      <td>81.0</td>\n",
       "      <td>$30,000,000</td>\n",
       "      <td>toy rivalry cowboy cgi animation</td>\n",
       "      <td>toy story 1995</td>\n",
       "    </tr>\n",
       "    <tr>\n",
       "      <th>1</th>\n",
       "      <td>2</td>\n",
       "      <td>Jumanji (1995)</td>\n",
       "      <td>Adventure Children Fantasy</td>\n",
       "      <td>Robin Williams Jonathan Hyde Kirsten Dunst Bra...</td>\n",
       "      <td>Jonathan Hensleigh</td>\n",
       "      <td>104.0</td>\n",
       "      <td>$65,000,000</td>\n",
       "      <td>board game adventurer fight game</td>\n",
       "      <td>jumanji 1995</td>\n",
       "    </tr>\n",
       "  </tbody>\n",
       "</table>\n",
       "</div>"
      ],
      "text/plain": [
       "   movieId             title                                       genres  \\\n",
       "0        1  Toy Story (1995)  Adventure Animation Children Comedy Fantasy   \n",
       "1        2    Jumanji (1995)                   Adventure Children Fantasy   \n",
       "\n",
       "                                          title_cast            director  \\\n",
       "0  Tom Hanks Tim Allen Don Rickles Jim Varney Wal...       John Lasseter   \n",
       "1  Robin Williams Jonathan Hyde Kirsten Dunst Bra...  Jonathan Hensleigh   \n",
       "\n",
       "   runtime       budget                     plot_keywords     clean_title  \n",
       "0     81.0  $30,000,000  toy rivalry cowboy cgi animation  toy story 1995  \n",
       "1    104.0  $65,000,000  board game adventurer fight game    jumanji 1995  "
      ]
     },
     "execution_count": 69,
     "metadata": {},
     "output_type": "execute_result"
    }
   ],
   "source": [
    "imdb_movies.title_cast = imdb_movies.title_cast.str.replace('|', ' ')\n",
    "imdb_movies.genres = imdb_movies.genres.str.replace('|', ' ')\n",
    "imdb_movies.plot_keywords = imdb_movies.plot_keywords.str.replace('|', ' ')\n",
    "imdb_movies.head(2)"
   ]
  },
  {
   "cell_type": "markdown",
   "id": "9fdc7722",
   "metadata": {},
   "source": [
    "#### Changing the genres, title_cast and plot_keywords columns to lowercase."
   ]
  },
  {
   "cell_type": "code",
   "execution_count": 70,
   "id": "e55cf4f2",
   "metadata": {},
   "outputs": [],
   "source": [
    "imdb_movies[\"genres\"] = imdb_movies[\"genres\"].apply(lambda x: x.lower())"
   ]
  },
  {
   "cell_type": "code",
   "execution_count": 71,
   "id": "611d772f",
   "metadata": {},
   "outputs": [],
   "source": [
    "imdb_movies[\"title_cast\"] = imdb_movies[\"title_cast\"].apply(lambda x: x.lower())"
   ]
  },
  {
   "cell_type": "code",
   "execution_count": 72,
   "id": "86f9922a",
   "metadata": {},
   "outputs": [],
   "source": [
    "imdb_movies[\"plot_keywords\"] = imdb_movies[\"plot_keywords\"].apply(lambda x: x.lower())"
   ]
  },
  {
   "cell_type": "code",
   "execution_count": 73,
   "id": "b18a9791",
   "metadata": {},
   "outputs": [
    {
     "data": {
      "text/html": [
       "<div>\n",
       "<style scoped>\n",
       "    .dataframe tbody tr th:only-of-type {\n",
       "        vertical-align: middle;\n",
       "    }\n",
       "\n",
       "    .dataframe tbody tr th {\n",
       "        vertical-align: top;\n",
       "    }\n",
       "\n",
       "    .dataframe thead th {\n",
       "        text-align: right;\n",
       "    }\n",
       "</style>\n",
       "<table border=\"1\" class=\"dataframe\">\n",
       "  <thead>\n",
       "    <tr style=\"text-align: right;\">\n",
       "      <th></th>\n",
       "      <th>movieId</th>\n",
       "      <th>title</th>\n",
       "      <th>genres</th>\n",
       "      <th>title_cast</th>\n",
       "      <th>director</th>\n",
       "      <th>runtime</th>\n",
       "      <th>budget</th>\n",
       "      <th>plot_keywords</th>\n",
       "      <th>clean_title</th>\n",
       "    </tr>\n",
       "  </thead>\n",
       "  <tbody>\n",
       "    <tr>\n",
       "      <th>0</th>\n",
       "      <td>1</td>\n",
       "      <td>Toy Story (1995)</td>\n",
       "      <td>adventure animation children comedy fantasy</td>\n",
       "      <td>tom hanks tim allen don rickles jim varney wal...</td>\n",
       "      <td>John Lasseter</td>\n",
       "      <td>81.0</td>\n",
       "      <td>$30,000,000</td>\n",
       "      <td>toy rivalry cowboy cgi animation</td>\n",
       "      <td>toy story 1995</td>\n",
       "    </tr>\n",
       "    <tr>\n",
       "      <th>1</th>\n",
       "      <td>2</td>\n",
       "      <td>Jumanji (1995)</td>\n",
       "      <td>adventure children fantasy</td>\n",
       "      <td>robin williams jonathan hyde kirsten dunst bra...</td>\n",
       "      <td>Jonathan Hensleigh</td>\n",
       "      <td>104.0</td>\n",
       "      <td>$65,000,000</td>\n",
       "      <td>board game adventurer fight game</td>\n",
       "      <td>jumanji 1995</td>\n",
       "    </tr>\n",
       "    <tr>\n",
       "      <th>2</th>\n",
       "      <td>3</td>\n",
       "      <td>Grumpier Old Men (1995)</td>\n",
       "      <td>comedy romance</td>\n",
       "      <td>walter matthau jack lemmon sophia loren ann-ma...</td>\n",
       "      <td>Mark Steven Johnson</td>\n",
       "      <td>101.0</td>\n",
       "      <td>$25,000,000</td>\n",
       "      <td>boat lake neighbor rivalry</td>\n",
       "      <td>grumpier old men 1995</td>\n",
       "    </tr>\n",
       "    <tr>\n",
       "      <th>3</th>\n",
       "      <td>4</td>\n",
       "      <td>Waiting to Exhale (1995)</td>\n",
       "      <td>comedy drama romance</td>\n",
       "      <td>whitney houston angela bassett loretta devine ...</td>\n",
       "      <td>Terry McMillan</td>\n",
       "      <td>124.0</td>\n",
       "      <td>$16,000,000</td>\n",
       "      <td>black american husband wife relationship betra...</td>\n",
       "      <td>waiting to exhale 1995</td>\n",
       "    </tr>\n",
       "    <tr>\n",
       "      <th>4</th>\n",
       "      <td>5</td>\n",
       "      <td>Father of the Bride Part II (1995)</td>\n",
       "      <td>comedy</td>\n",
       "      <td>steve martin diane keaton martin short kimberl...</td>\n",
       "      <td>Albert Hackett</td>\n",
       "      <td>106.0</td>\n",
       "      <td>$30,000,000</td>\n",
       "      <td>fatherhood doberman dog mansion</td>\n",
       "      <td>father of the bride part ii 1995</td>\n",
       "    </tr>\n",
       "  </tbody>\n",
       "</table>\n",
       "</div>"
      ],
      "text/plain": [
       "   movieId                               title  \\\n",
       "0        1                    Toy Story (1995)   \n",
       "1        2                      Jumanji (1995)   \n",
       "2        3             Grumpier Old Men (1995)   \n",
       "3        4            Waiting to Exhale (1995)   \n",
       "4        5  Father of the Bride Part II (1995)   \n",
       "\n",
       "                                        genres  \\\n",
       "0  adventure animation children comedy fantasy   \n",
       "1                   adventure children fantasy   \n",
       "2                               comedy romance   \n",
       "3                         comedy drama romance   \n",
       "4                                       comedy   \n",
       "\n",
       "                                          title_cast             director  \\\n",
       "0  tom hanks tim allen don rickles jim varney wal...        John Lasseter   \n",
       "1  robin williams jonathan hyde kirsten dunst bra...   Jonathan Hensleigh   \n",
       "2  walter matthau jack lemmon sophia loren ann-ma...  Mark Steven Johnson   \n",
       "3  whitney houston angela bassett loretta devine ...       Terry McMillan   \n",
       "4  steve martin diane keaton martin short kimberl...       Albert Hackett   \n",
       "\n",
       "   runtime       budget                                      plot_keywords  \\\n",
       "0     81.0  $30,000,000                   toy rivalry cowboy cgi animation   \n",
       "1    104.0  $65,000,000                   board game adventurer fight game   \n",
       "2    101.0  $25,000,000                         boat lake neighbor rivalry   \n",
       "3    124.0  $16,000,000  black american husband wife relationship betra...   \n",
       "4    106.0  $30,000,000                    fatherhood doberman dog mansion   \n",
       "\n",
       "                        clean_title  \n",
       "0                    toy story 1995  \n",
       "1                      jumanji 1995  \n",
       "2             grumpier old men 1995  \n",
       "3            waiting to exhale 1995  \n",
       "4  father of the bride part ii 1995  "
      ]
     },
     "execution_count": 73,
     "metadata": {},
     "output_type": "execute_result"
    }
   ],
   "source": [
    "imdb_movies.head(5)"
   ]
  },
  {
   "cell_type": "markdown",
   "id": "92492ca2",
   "metadata": {},
   "source": [
    "#### Now, the content-based recommender system will use the genres, title_cast, plot_keywords, and the clean_title columns as the content, to calculate the similiary value."
   ]
  },
  {
   "cell_type": "code",
   "execution_count": 74,
   "id": "becddf18",
   "metadata": {},
   "outputs": [
    {
     "name": "stdout",
     "output_type": "stream",
     "text": [
      "['genres', 'title_cast', 'plot_keywords', 'clean_title']\n"
     ]
    }
   ],
   "source": [
    "# Selecting the relevant features for recommendation\n",
    "selected_features = ['genres','title_cast','plot_keywords','clean_title']\n",
    "print(selected_features)"
   ]
  },
  {
   "cell_type": "code",
   "execution_count": 75,
   "id": "00de1eb7",
   "metadata": {},
   "outputs": [],
   "source": [
    "# Replacing the null valuess with null string\n",
    "for feature in selected_features:\n",
    "    imdb_movies[feature] = imdb_movies[feature].fillna('')"
   ]
  },
  {
   "cell_type": "code",
   "execution_count": 76,
   "id": "e88fbb05",
   "metadata": {},
   "outputs": [],
   "source": [
    "# Combining all the 5 selected features\n",
    "joined_features = imdb_movies['genres']+' '+imdb_movies['plot_keywords']+' '+imdb_movies['title_cast']+' '+imdb_movies['clean_title']"
   ]
  },
  {
   "cell_type": "markdown",
   "id": "5cd5d8f8",
   "metadata": {},
   "source": [
    "#### Next, text processing needs to be done to convert the word vector of our joined feature. Now, we'll compute Term Frequency-Inverse Document Frequency(TF-IDF) vectors for these joined features.\n",
    "\n",
    "- Wondering what is term frequency?\n",
    "\n",
    "It is the relative frequency of a word in a document, and is given as (term instances/total instances). Inverse Document Frequency is the relative count of documents containing the term and is given as log(number of documents/documents with term). The overall importance of each word to the documents in which they appear is equal to TF * IDF.\n",
    "\n",
    "- This will gives a matrix where each column represents a word in the joined features vocabulary (all the words that appear in at least one document) and each row represents a movie, as before.This is done to reduce the importance of words that occur frequently in the features and therefore, their significance in computing the final similarity score.\n",
    "\n",
    "- Fortunately, scikit-learn gives us a built-in TfIdfVectorizer class that produces the TF-IDF matrix in a couple of lines. \n",
    "\n",
    "That's great, isn't it?\n"
   ]
  },
  {
   "cell_type": "code",
   "execution_count": 77,
   "id": "7081d941",
   "metadata": {},
   "outputs": [],
   "source": [
    "from sklearn.feature_extraction.text import TfidfVectorizer\n",
    "#Vectorizer = TfidfVectorizer(ngram_range=(1,2))\n",
    "vectorizer = TfidfVectorizer(ngram_range=(1,2), stop_words='english')\n",
    "tfidf = vectorizer.fit_transform(joined_features)"
   ]
  },
  {
   "cell_type": "code",
   "execution_count": 78,
   "id": "a70c1673",
   "metadata": {},
   "outputs": [
    {
     "data": {
      "text/plain": [
       "(24866, 536106)"
      ]
     },
     "execution_count": 78,
     "metadata": {},
     "output_type": "execute_result"
    }
   ],
   "source": [
    "tfidf.shape"
   ]
  },
  {
   "cell_type": "markdown",
   "id": "ee27f21a",
   "metadata": {},
   "source": [
    "We can see that 536,106 different words were used to describe the 24,866 movies in our dataset."
   ]
  },
  {
   "cell_type": "markdown",
   "id": "c2a034cb",
   "metadata": {},
   "source": [
    "Now, since TF-IDF vectorizer was used, calculating the dot product will directly return the cosine similarity score. Therefore, we will use sklearn's **linear_kernel()** instead of cosine_similarities() since it is faster."
   ]
  },
  {
   "cell_type": "code",
   "execution_count": 79,
   "id": "e8e05424",
   "metadata": {},
   "outputs": [],
   "source": [
    "# Import linear_kernel\n",
    "from sklearn.metrics.pairwise import linear_kernel\n",
    "\n",
    "# Compute the cosine similarity matrix\n",
    "cosine_sim = linear_kernel(tfidf, tfidf)"
   ]
  },
  {
   "cell_type": "code",
   "execution_count": 80,
   "id": "de933217",
   "metadata": {},
   "outputs": [],
   "source": [
    "#Construct a reverse map of indices and movie titles\n",
    "indices = pd.Series(imdb_movies.index, index=imdb_movies['clean_title']).drop_duplicates()"
   ]
  },
  {
   "cell_type": "markdown",
   "id": "7a2fcc8f",
   "metadata": {},
   "source": [
    "We are now in a good position to define the content-based recommendation function. These are the following steps we'll follow :-\n",
    "* Get the index of the movie given its title.\n",
    "* Get the list of cosine similarity scores for that particular movie with all movies. Convert it into a list of tuples where the first element is its position and the second is the similarity score.\n",
    "* Sort the aforementioned list of tuples based on the similarity scores; that is, the second element(index 1).\n",
    "* Get the top 10 elements of this list. Ignore the first element as it refers to self (the movie most similar to a particular movie is the movie itself).\n",
    "* Return the titles corresponding to the indices of the top elements."
   ]
  },
  {
   "cell_type": "code",
   "execution_count": 81,
   "id": "c67456f0",
   "metadata": {},
   "outputs": [],
   "source": [
    "# Function that takes in movie title as input and outputs most similar movies\n",
    "def get_recommendations(title, cosine_sim=cosine_sim):\n",
    "    # Get the index of the movie that matches the title\n",
    "    idx = indices[title]\n",
    "\n",
    "    # Get the pairwsie similarity scores of all movies with that movie\n",
    "    sim_scores = list(enumerate(cosine_sim[idx]))\n",
    "\n",
    "    # Sort the movies based on the similarity scores\n",
    "    sim_scores = sorted(sim_scores, key=lambda x: x[1], reverse=True)\n",
    "\n",
    "    # Get the scores of the 10 most similar movies\n",
    "    sim_scores = sim_scores[1:11]\n",
    "\n",
    "    # Get the movie indices\n",
    "    movie_indices = [i[0] for i in sim_scores]\n",
    "\n",
    "    # Return the top 10 most similar movies\n",
    "    return imdb_movies['clean_title'].iloc[movie_indices]"
   ]
  },
  {
   "cell_type": "markdown",
   "id": "ca0112ad",
   "metadata": {},
   "source": [
    "#### Now, testing the content-based recommender system"
   ]
  },
  {
   "cell_type": "code",
   "execution_count": 82,
   "id": "f0da2ec7",
   "metadata": {},
   "outputs": [
    {
     "data": {
      "text/plain": [
       "3020                            toy story 2 1999\n",
       "14758                           toy story 3 2010\n",
       "22140            toy story toons: small fry 2011\n",
       "22139    toy story toons: hawaiian vacation 2011\n",
       "23079      toy story toons: partysaurus rex 2012\n",
       "23081            toy story that time forgot 2014\n",
       "20294                   toy story of terror 2013\n",
       "7786                chipmunk adventure, the 1987\n",
       "4779                         monsters, inc. 2001\n",
       "2050                      american tail, an 1986\n",
       "Name: clean_title, dtype: object"
      ]
     },
     "execution_count": 82,
     "metadata": {},
     "output_type": "execute_result"
    }
   ],
   "source": [
    "get_recommendations('toy story 1995')"
   ]
  },
  {
   "cell_type": "code",
   "execution_count": 83,
   "id": "f8b6a5b0",
   "metadata": {},
   "outputs": [
    {
     "data": {
      "text/plain": [
       "1327     preacher's wife, the 1996\n",
       "23850           hen, his wife 1990\n",
       "1562                soul food 1997\n",
       "6695        rage in harlem, a 1991\n",
       "2467          king and i, the 1999\n",
       "23494               melbourne 2014\n",
       "5                        heat 1995\n",
       "1639     for richer or poorer 1997\n",
       "18181             being flynn 2012\n",
       "3913          what women want 2000\n",
       "Name: clean_title, dtype: object"
      ]
     },
     "execution_count": 83,
     "metadata": {},
     "output_type": "execute_result"
    }
   ],
   "source": [
    "get_recommendations('waiting to exhale 1995')"
   ]
  },
  {
   "cell_type": "code",
   "execution_count": 84,
   "id": "db184180",
   "metadata": {},
   "outputs": [
    {
     "data": {
      "text/plain": [
       "19693               monsters university 2013\n",
       "13327                                up 2009\n",
       "0                             toy story 1995\n",
       "7786            chipmunk adventure, the 1987\n",
       "2025             lord of the rings, the 1978\n",
       "5052     ferngully: the last rainforest 1992\n",
       "14912                 wizard of oz, the 1925\n",
       "2263                      bug's life, a 1998\n",
       "1943                black cauldron, the 1985\n",
       "2050                  american tail, an 1986\n",
       "Name: clean_title, dtype: object"
      ]
     },
     "execution_count": 84,
     "metadata": {},
     "output_type": "execute_result"
    }
   ],
   "source": [
    "get_recommendations('monsters, inc. 2001')"
   ]
  },
  {
   "cell_type": "markdown",
   "id": "fecfd3d4",
   "metadata": {},
   "source": [
    "**Wow!** The content-based recommender system has done a good job at returning recommendation of similar movies. A user who enters the movie \"toy story 1995\" receives other toy story movie from different years, as well as other similar movies."
   ]
  },
  {
   "cell_type": "markdown",
   "id": "bb4bf73d",
   "metadata": {},
   "source": [
    "#### 5.2 Collaborative-based Filtering\n",
    "\n",
    "- Our content based engine suffers from some severe limitations. It is only capable of suggesting movies which are close to a certain movie. That is, it is not capable of capturing tastes and providing recommendations across genres.\n",
    "\n",
    "- Also, the recommendation engine that we built is not really personal in that it doesn't capture the personal tastes and biases of a user. Anyone querying our engine for recommendations based on a movie will receive the same recommendations for that movie, regardless of who she/he is.\n",
    "\n",
    "- Therefore, in this section, we will use a technique called Collaborative Filtering to make recommendations to movie watchers."
   ]
  },
  {
   "cell_type": "code",
   "execution_count": 4,
   "id": "d6a95e61",
   "metadata": {
    "execution": {
     "iopub.execute_input": "2024-02-06T15:22:41.076438Z",
     "iopub.status.busy": "2024-02-06T15:22:41.075977Z",
     "iopub.status.idle": "2024-02-06T15:22:41.089047Z",
     "shell.execute_reply": "2024-02-06T15:22:41.087646Z",
     "shell.execute_reply.started": "2024-02-06T15:22:41.076406Z"
    }
   },
   "outputs": [
    {
     "data": {
      "text/html": [
       "<div>\n",
       "<style scoped>\n",
       "    .dataframe tbody tr th:only-of-type {\n",
       "        vertical-align: middle;\n",
       "    }\n",
       "\n",
       "    .dataframe tbody tr th {\n",
       "        vertical-align: top;\n",
       "    }\n",
       "\n",
       "    .dataframe thead th {\n",
       "        text-align: right;\n",
       "    }\n",
       "</style>\n",
       "<table border=\"1\" class=\"dataframe\">\n",
       "  <thead>\n",
       "    <tr style=\"text-align: right;\">\n",
       "      <th></th>\n",
       "      <th>userId</th>\n",
       "      <th>movieId</th>\n",
       "      <th>rating</th>\n",
       "      <th>timestamp</th>\n",
       "    </tr>\n",
       "  </thead>\n",
       "  <tbody>\n",
       "    <tr>\n",
       "      <th>0</th>\n",
       "      <td>5163</td>\n",
       "      <td>57669</td>\n",
       "      <td>4.0</td>\n",
       "      <td>1518349992</td>\n",
       "    </tr>\n",
       "    <tr>\n",
       "      <th>1</th>\n",
       "      <td>106343</td>\n",
       "      <td>5</td>\n",
       "      <td>4.5</td>\n",
       "      <td>1206238739</td>\n",
       "    </tr>\n",
       "    <tr>\n",
       "      <th>2</th>\n",
       "      <td>146790</td>\n",
       "      <td>5459</td>\n",
       "      <td>5.0</td>\n",
       "      <td>1076215539</td>\n",
       "    </tr>\n",
       "    <tr>\n",
       "      <th>3</th>\n",
       "      <td>106362</td>\n",
       "      <td>32296</td>\n",
       "      <td>2.0</td>\n",
       "      <td>1423042565</td>\n",
       "    </tr>\n",
       "    <tr>\n",
       "      <th>4</th>\n",
       "      <td>9041</td>\n",
       "      <td>366</td>\n",
       "      <td>3.0</td>\n",
       "      <td>833375837</td>\n",
       "    </tr>\n",
       "  </tbody>\n",
       "</table>\n",
       "</div>"
      ],
      "text/plain": [
       "   userId  movieId  rating   timestamp\n",
       "0    5163    57669     4.0  1518349992\n",
       "1  106343        5     4.5  1206238739\n",
       "2  146790     5459     5.0  1076215539\n",
       "3  106362    32296     2.0  1423042565\n",
       "4    9041      366     3.0   833375837"
      ]
     },
     "execution_count": 4,
     "metadata": {},
     "output_type": "execute_result"
    }
   ],
   "source": [
    "from surprise import Reader\n",
    "reader = Reader(rating_scale=(0.5, 5))\n",
    "train_df.head()"
   ]
  },
  {
   "cell_type": "code",
   "execution_count": 5,
   "id": "b608a88c",
   "metadata": {
    "execution": {
     "iopub.execute_input": "2024-02-06T15:22:47.946742Z",
     "iopub.status.busy": "2024-02-06T15:22:47.946351Z",
     "iopub.status.idle": "2024-02-06T15:22:47.954883Z",
     "shell.execute_reply": "2024-02-06T15:22:47.953144Z",
     "shell.execute_reply.started": "2024-02-06T15:22:47.946714Z"
    }
   },
   "outputs": [
    {
     "data": {
      "text/plain": [
       "((5000019, 2), (10000038, 4))"
      ]
     },
     "execution_count": 5,
     "metadata": {},
     "output_type": "execute_result"
    }
   ],
   "source": [
    "test_df.shape, train_df.shape"
   ]
  },
  {
   "cell_type": "code",
   "execution_count": 6,
   "id": "39b9f99e",
   "metadata": {
    "execution": {
     "iopub.execute_input": "2024-02-06T15:22:53.937814Z",
     "iopub.status.busy": "2024-02-06T15:22:53.937273Z",
     "iopub.status.idle": "2024-02-06T15:23:50.005122Z",
     "shell.execute_reply": "2024-02-06T15:23:50.003384Z",
     "shell.execute_reply.started": "2024-02-06T15:22:53.937771Z"
    }
   },
   "outputs": [],
   "source": [
    "data = Dataset.load_from_df(train_df[['userId', 'movieId', 'rating']], reader)\n",
    "trainset, testset = train_test_split(data, test_size=.25, random_state=42)"
   ]
  },
  {
   "cell_type": "markdown",
   "id": "7aa644ef",
   "metadata": {},
   "source": [
    "<a id=\"five\"></a>\n",
    "### 6. Modeling\n",
    "<a class=\"anchor\" id=\"1.1\"></a>\n",
    "<a href=#cont>Back to Table of Contents</a>\n"
   ]
  },
  {
   "cell_type": "markdown",
   "id": "cf823de2",
   "metadata": {},
   "source": [
    "#### Model 1: Singular Value Decomposition\n",
    "Singular Value Decomposition (SVD) is a collaborative filtering method for movie recommendation.\n",
    "\n",
    "**How does it work in recommender systems?**\n",
    "\n",
    "- Within the context of recommender systems, the Singular Value Decomposition (SVD) serves as a method for collaborative filtering. It employs a matrix format where users are represented by rows and items by columns, with the matrix elements corresponding to the ratings users assign to items."
   ]
  },
  {
   "cell_type": "code",
   "execution_count": 24,
   "id": "6ceba81d",
   "metadata": {
    "execution": {
     "iopub.execute_input": "2024-02-06T03:27:32.348324Z",
     "iopub.status.busy": "2024-02-06T03:27:32.347893Z",
     "iopub.status.idle": "2024-02-06T03:38:03.608171Z",
     "shell.execute_reply": "2024-02-06T03:38:03.605401Z",
     "shell.execute_reply.started": "2024-02-06T03:27:32.348294Z"
    }
   },
   "outputs": [
    {
     "name": "stdout",
     "output_type": "stream",
     "text": [
      "Processing epoch 0\n",
      "Processing epoch 1\n",
      "Processing epoch 2\n",
      "Processing epoch 3\n",
      "Processing epoch 4\n",
      "Processing epoch 5\n",
      "Processing epoch 6\n",
      "Processing epoch 7\n",
      "Processing epoch 8\n",
      "Processing epoch 9\n",
      "Processing epoch 10\n",
      "Processing epoch 11\n",
      "Processing epoch 12\n",
      "Processing epoch 13\n",
      "Processing epoch 14\n",
      "Processing epoch 15\n",
      "Processing epoch 16\n",
      "Processing epoch 17\n",
      "Processing epoch 18\n",
      "Processing epoch 19\n",
      "Processing epoch 20\n",
      "Processing epoch 21\n",
      "Processing epoch 22\n",
      "Processing epoch 23\n",
      "Processing epoch 24\n",
      "Processing epoch 25\n",
      "Processing epoch 26\n",
      "Processing epoch 27\n",
      "Processing epoch 28\n",
      "Processing epoch 29\n",
      "Processing epoch 30\n",
      "Processing epoch 31\n",
      "Processing epoch 32\n",
      "Processing epoch 33\n",
      "Processing epoch 34\n",
      "RMSE: 0.8092\n"
     ]
    }
   ],
   "source": [
    "svd_model2 = SVD(n_epochs=35,n_factors=400,init_std_dev=0.001,random_state=42,verbose=True)\n",
    "svd_model2.fit(trainset)\n",
    "svd_predictions = svd_model2.test(testset)\n",
    "svd_rmse2 = accuracy.rmse(svd_predictions)"
   ]
  },
  {
   "cell_type": "code",
   "execution_count": 25,
   "id": "00491904",
   "metadata": {
    "execution": {
     "iopub.execute_input": "2024-02-06T03:40:34.132491Z",
     "iopub.status.busy": "2024-02-06T03:40:34.132046Z",
     "iopub.status.idle": "2024-02-06T03:54:54.816064Z",
     "shell.execute_reply": "2024-02-06T03:54:54.814810Z",
     "shell.execute_reply.started": "2024-02-06T03:40:34.132460Z"
    }
   },
   "outputs": [
    {
     "name": "stdout",
     "output_type": "stream",
     "text": [
      "Processing epoch 0\n",
      "Processing epoch 1\n",
      "Processing epoch 2\n",
      "Processing epoch 3\n",
      "Processing epoch 4\n",
      "Processing epoch 5\n",
      "Processing epoch 6\n",
      "Processing epoch 7\n",
      "Processing epoch 8\n",
      "Processing epoch 9\n",
      "Processing epoch 10\n",
      "Processing epoch 11\n",
      "Processing epoch 12\n",
      "Processing epoch 13\n",
      "Processing epoch 14\n",
      "Processing epoch 15\n",
      "Processing epoch 16\n",
      "Processing epoch 17\n",
      "Processing epoch 18\n",
      "Processing epoch 19\n",
      "Processing epoch 20\n",
      "Processing epoch 21\n",
      "Processing epoch 22\n",
      "Processing epoch 23\n",
      "Processing epoch 24\n",
      "Processing epoch 25\n",
      "Processing epoch 26\n",
      "Processing epoch 27\n",
      "Processing epoch 28\n",
      "Processing epoch 29\n",
      "Processing epoch 30\n",
      "Processing epoch 31\n",
      "Processing epoch 32\n",
      "Processing epoch 33\n",
      "Processing epoch 34\n",
      "Processing epoch 35\n",
      "Processing epoch 36\n",
      "Processing epoch 37\n",
      "Processing epoch 38\n",
      "Processing epoch 39\n",
      "Processing epoch 40\n",
      "Processing epoch 41\n",
      "Processing epoch 42\n",
      "Processing epoch 43\n",
      "Processing epoch 44\n",
      "Processing epoch 45\n",
      "Processing epoch 46\n",
      "Processing epoch 47\n",
      "Processing epoch 48\n",
      "Processing epoch 49\n",
      "RMSE: 0.7990\n"
     ]
    }
   ],
   "source": [
    "svd_model3 = SVD(n_epochs=50,n_factors=400,init_std_dev=0.001,random_state=42,verbose=True)\n",
    "svd_model3.fit(trainset)\n",
    "svd_predictions = svd_model3.test(testset)\n",
    "svd_rmse3 = accuracy.rmse(svd_predictions)"
   ]
  },
  {
   "cell_type": "code",
   "execution_count": null,
   "id": "3edda30f",
   "metadata": {},
   "outputs": [],
   "source": [
    "# Creating a submission file for the SVD model\n",
    "pred = [svd_model3.predict(test_df.userId[i], test_df.movieId[i]).est for i in test_df.index]\n",
    "predictions = pd.DataFrame(pred)\n",
    "predictions['Id'] = test_df['userId'].astype(str)+'_'+test_df['movieId'].astype(str)\n",
    "submission = pd.DataFrame()\n",
    "submission['Id']=predictions['Id']\n",
    "submission['rating']=predictions[0]\n",
    "submission.to_csv('svd_0.7990.csv', index=False)"
   ]
  },
  {
   "cell_type": "markdown",
   "id": "b5e77cf9",
   "metadata": {},
   "source": [
    "#### Now, we create a submission csv file for the kaggle competition."
   ]
  },
  {
   "cell_type": "code",
   "execution_count": null,
   "id": "871e933d",
   "metadata": {},
   "outputs": [],
   "source": [
    "Team_eg2_submission_pred = pd.read_csv('svd_0.7990.csv')\n",
    "Team_eg2_submission_pred.head(5)"
   ]
  },
  {
   "cell_type": "code",
   "execution_count": null,
   "id": "4432f484",
   "metadata": {},
   "outputs": [],
   "source": [
    "# Shape of the prediction dataset\n",
    "Team_eg2_submission_pred.shape"
   ]
  },
  {
   "cell_type": "markdown",
   "id": "7c5d81d0",
   "metadata": {},
   "source": [
    "#### Model 2: SVD Plus Plus\n",
    "\n",
    "SVD Plus Plus stands as an extension to the SVD model and functions as an algorithm for predicting user preferences or ratings for items. The core concept behind SVD++ involves incorporating both explicit and implicit feedback during the factorization process.\n",
    "\n",
    "While the conventional SVD model solely considers explicit ratings offered by users, SVD++ goes a step further by taking implicit feedback into consideration. Implicit feedback includes factors like the frequency of a user viewing an item. To accommodate this, SVD++ introduces additional latent factors into the model to represent the user's implicit preferences. The factorization process is then adjusted to incorporate these latent factors, resulting in more precise and resilient predictions of user preferences."
   ]
  },
  {
   "cell_type": "code",
   "execution_count": null,
   "id": "abfd331e",
   "metadata": {},
   "outputs": [],
   "source": [
    "from surprise import SVDpp\n",
    "from surprise import Dataset\n",
    "from surprise import Reader\n",
    "from surprise.model_selection import train_test_split\n",
    "\n",
    "# Assuming you have a 'train' DataFrame with 'userId', 'movieId', and 'rating' columns\n",
    "reader = Reader(rating_scale=(1, 5))\n",
    "data = Dataset.load_from_df(train_df[['userId', 'movieId', 'rating']], reader)\n",
    "trainset, testset = train_test_split(data, test_size=0.2, random_state=42)\n",
    "\n",
    "# Now you can use SVDpp\n",
    "svdpp_model = SVDpp(n_epochs=50, n_factors=400, init_std_dev=0.001, random_state=42, verbose=True)\n",
    "svdpp_model.fit(trainset)\n",
    "svdpp_predictions = svdpp_model.test(testset)"
   ]
  },
  {
   "cell_type": "code",
   "execution_count": null,
   "id": "571f4619",
   "metadata": {},
   "outputs": [],
   "source": [
    "svdpp_model = SVDpp(n_epochs=50,n_factors=400,init_std_dev=0.001,random_state=42, verbose=True)\n",
    "svdpp_model.fit(trainset)\n",
    "svdpp_predictions = svdpp_model.test(testset)\n",
    "svdpp_rmse = accuracy.rmse(svdpp_predictions)"
   ]
  },
  {
   "cell_type": "markdown",
   "id": "30be6cfc",
   "metadata": {},
   "source": [
    "#### Model 3: Non-negative Matrix Factorization\n",
    "\n",
    "Non-negative Matrix Factorization (NMF) is a mathematical method in linear algebra employed to break down a non-negative matrix into two corresponding non-negative matrices.\n",
    "\n",
    "In the context of NMF, a non-negative matrix A can be decomposed into the product of two matrices, W and H, both of which are non-negative. Matrix W signifies the data's fundamental basis, while matrix H represents the coefficients associated with this basis. This decomposition serves the purpose of uncovering the inherent structure within the data, reducing its dimensionality, and facilitating data compression.\n",
    "\n",
    "NMF proves to be a potent technique for extracting features from high-dimensional data, with the columns of matrix W representing these features and the rows of matrix H representing observations. This method is especially advantageous in scenarios where data sparsity is evident, such as in text mining and image processing, aiming to extract the most crucial features from the given data."
   ]
  },
  {
   "cell_type": "code",
   "execution_count": 26,
   "id": "d7f429b1",
   "metadata": {
    "execution": {
     "iopub.execute_input": "2024-02-06T03:59:47.963224Z",
     "iopub.status.busy": "2024-02-06T03:59:47.961588Z",
     "iopub.status.idle": "2024-02-06T04:03:39.737115Z",
     "shell.execute_reply": "2024-02-06T04:03:39.735319Z",
     "shell.execute_reply.started": "2024-02-06T03:59:47.963175Z"
    }
   },
   "outputs": [
    {
     "name": "stdout",
     "output_type": "stream",
     "text": [
      "Processing epoch 0\n",
      "Processing epoch 1\n",
      "Processing epoch 2\n",
      "Processing epoch 3\n",
      "Processing epoch 4\n",
      "RMSE: 3.1907\n"
     ]
    }
   ],
   "source": [
    "nmf_model = NMF(n_epochs=5, n_factors=400, random_state=42,verbose=True)\n",
    "nmf_model.fit(trainset)\n",
    "nmf_predictions =nmf_model.test(testset)\n",
    "nmf_rmse = accuracy.rmse(nmf_predictions)"
   ]
  },
  {
   "cell_type": "markdown",
   "id": "d1db44f6",
   "metadata": {},
   "source": [
    "#### Model 4: Slope One\n",
    "\n",
    "The fundamental concept underlying the Slope One model involves utilizing the variations in ratings among different items to predict a user's preferences.\n",
    "\n",
    "In the Slope One model, the dissimilarity between the ratings of two items is computed and stored in a matrix, referred to as the deviation. When predicting a user's rating for a particular item, the ratings of other items the user has rated, along with the deviations between those items and the item under prediction, are leveraged to make the prediction.\n",
    "\n",
    "The name \"Slope One\" is derived from the algorithm's ability to estimate the slope of the best-fit line between ratings of distinct items. This slope indicates the average deviation between ratings of different items and serves as a basis for predicting user preferences.\n",
    "\n",
    "Slope One is known for its ease of implementation, independence from a user-item matrix, memory efficiency, speed, scalability to large datasets, and compatibility with both explicit and implicit feedback."
   ]
  },
  {
   "cell_type": "code",
   "execution_count": null,
   "id": "9d2b6c6a",
   "metadata": {},
   "outputs": [],
   "source": [
    "\"\"\"\n",
    "# This model uses the whole 30GB allocated to us on Kaggle\n",
    "\n",
    "slo_model = SlopeOne()\n",
    "\n",
    "# Set the deviation regularization\n",
    "slo_model.deviation_regularization = 0.01\n",
    "\n",
    "# Set the similarity threshold\n",
    "slo_model.similarity_threshold = 0.3\n",
    "\n",
    "# Set the minimal number of ratings\n",
    "slo_model.min_ratings = 10\n",
    "\n",
    "# Set the number of recommendations\n",
    "slo_model.num_recommendations = 10\n",
    "\n",
    "# Set the cold start problem\n",
    "slo_model.cold_start = 'global_average'\n",
    "\n",
    "slo_model.fit(trainset)\n",
    "slo_predictions = slo_model.test(testset)\n",
    "slo_rmse=accuracy.rmse(slo_predictions)\n",
    "\"\"\""
   ]
  },
  {
   "cell_type": "code",
   "execution_count": 8,
   "id": "401a9c7a",
   "metadata": {
    "execution": {
     "iopub.execute_input": "2024-02-06T04:15:54.763531Z",
     "iopub.status.busy": "2024-02-06T04:15:54.763021Z",
     "iopub.status.idle": "2024-02-06T04:15:54.769736Z",
     "shell.execute_reply": "2024-02-06T04:15:54.768337Z",
     "shell.execute_reply.started": "2024-02-06T04:15:54.763496Z"
    }
   },
   "outputs": [],
   "source": [
    "from surprise import NormalPredictor\n",
    "from surprise import KNNBasic\n",
    "from surprise import KNNWithMeans\n",
    "from surprise import KNNWithZScore\n",
    "from surprise import KNNBaseline\n",
    "from surprise import BaselineOnly"
   ]
  },
  {
   "cell_type": "code",
   "execution_count": 1,
   "id": "d3e6eee3",
   "metadata": {
    "execution": {
     "iopub.execute_input": "2024-02-06T15:33:30.827824Z",
     "iopub.status.busy": "2024-02-06T15:33:30.827012Z",
     "iopub.status.idle": "2024-02-06T15:33:32.296671Z",
     "shell.execute_reply": "2024-02-06T15:33:32.294833Z",
     "shell.execute_reply.started": "2024-02-06T15:33:30.827761Z"
    }
   },
   "outputs": [
    {
     "ename": "NameError",
     "evalue": "name 'trainset' is not defined",
     "output_type": "error",
     "traceback": [
      "\u001b[0;31m---------------------------------------------------------------------------\u001b[0m",
      "\u001b[0;31mNameError\u001b[0m                                 Traceback (most recent call last)",
      "Cell \u001b[0;32mIn[1], line 12\u001b[0m\n\u001b[1;32m     10\u001b[0m \u001b[38;5;66;03m# Create and train the model using KNNWithZScore\u001b[39;00m\n\u001b[1;32m     11\u001b[0m knn_model \u001b[38;5;241m=\u001b[39m KNNWithZScore(k\u001b[38;5;241m=\u001b[39mk_neighbors, sim_options\u001b[38;5;241m=\u001b[39m{\u001b[38;5;124m'\u001b[39m\u001b[38;5;124mname\u001b[39m\u001b[38;5;124m'\u001b[39m: \u001b[38;5;124m'\u001b[39m\u001b[38;5;124mpearson_baseline\u001b[39m\u001b[38;5;124m'\u001b[39m, \u001b[38;5;124m'\u001b[39m\u001b[38;5;124muser_based\u001b[39m\u001b[38;5;124m'\u001b[39m: \u001b[38;5;28;01mFalse\u001b[39;00m}, verbose\u001b[38;5;241m=\u001b[39m\u001b[38;5;28;01mTrue\u001b[39;00m)\n\u001b[0;32m---> 12\u001b[0m knn_model\u001b[38;5;241m.\u001b[39mfit(\u001b[43mtrainset\u001b[49m)\n\u001b[1;32m     14\u001b[0m \u001b[38;5;66;03m# Make predictions and calculate RMSE\u001b[39;00m\n\u001b[1;32m     15\u001b[0m knn_predictions \u001b[38;5;241m=\u001b[39m knn_model\u001b[38;5;241m.\u001b[39mtest(testset)\n",
      "\u001b[0;31mNameError\u001b[0m: name 'trainset' is not defined"
     ]
    }
   ],
   "source": [
    "from surprise import KNNWithZScore, Dataset, Reader, accuracy\n",
    "from surprise.model_selection import train_test_split\n",
    "\n",
    "# Define the reader\n",
    "reader = Reader(rating_scale=(1, 5))\n",
    "\n",
    "# Set hyperparameters\n",
    "k_neighbors = 40  # Adjust the number of neighbors as needed\n",
    "\n",
    "# Create and train the model using KNNWithZScore\n",
    "knn_model = KNNWithZScore(k=k_neighbors, sim_options={'name': 'pearson_baseline', 'user_based': False}, verbose=True)\n",
    "knn_model.fit(trainset)\n",
    "\n",
    "# Make predictions and calculate RMSE\n",
    "knn_predictions = knn_model.test(testset)\n",
    "knn_rmse = accuracy.rmse(knn_predictions)\n",
    "\n",
    "print(f\"RMSE: {knn_rmse}\")"
   ]
  },
  {
   "cell_type": "code",
   "execution_count": null,
   "id": "8351b578",
   "metadata": {},
   "outputs": [],
   "source": [
    "from surprise import SlopeOne, Dataset, Reader, accuracy\n",
    "from surprise.model_selection import train_test_split\n",
    "\n",
    "# Define the reader\n",
    "reader = Reader(rating_scale=(1, 5))\n",
    "\n",
    "# Load the dataset\n",
    "data = Dataset.load_from_df(train_df[['userId', 'movieId', 'rating']], reader)\n",
    "\n",
    "# Split the data into train and test sets\n",
    "trainset, testset = train_test_split(data, test_size=0.2, random_state=42)\n",
    "\n",
    "# Create and train the model using SlopeOne\n",
    "slope_one_model = SlopeOne()\n",
    "slope_one_model.fit(trainset)\n",
    "\n",
    "# Make predictions and calculate RMSE\n",
    "slope_one_predictions = slope_one_model.test(testset)\n",
    "slope_one_rmse = accuracy.rmse(slope_one_predictions)\n",
    "\n",
    "print(f\"RMSE: {slope_one_rmse}\")"
   ]
  },
  {
   "cell_type": "code",
   "execution_count": null,
   "id": "96b064b5",
   "metadata": {},
   "outputs": [],
   "source": [
    "from surprise import CoClustering, Dataset, Reader, accuracy\n",
    "from surprise.model_selection import train_test_split\n",
    "\n",
    "# Define the reader\n",
    "reader = Reader(rating_scale=(1, 5))\n",
    "\n",
    "# Load the dataset\n",
    "data = Dataset.load_from_df(train_df[['userId', 'movieId', 'rating']], reader)\n",
    "\n",
    "# Split the data into train and test sets\n",
    "trainset, testset = train_test_split(data, test_size=0.2, random_state=42)\n",
    "\n",
    "# Set hyperparameters\n",
    "n_epochs = 20  # Adjust the number of epochs as needed\n",
    "n_cltr_u = 3   # Number of user clusters\n",
    "n_cltr_i = 3   # Number of item clusters\n",
    "\n",
    "# Create and train the model using CoClustering\n",
    "co_clustering_model = CoClustering(n_epochs=n_epochs, n_cltr_u=n_cltr_u, n_cltr_i=n_cltr_i, random_state=42, verbose=True)\n",
    "co_clustering_model.fit(trainset)\n",
    "\n",
    "# Make predictions and calculate RMSE\n",
    "co_clustering_predictions = co_clustering_model.test(testset)\n",
    "co_clustering_rmse = accuracy.rmse(co_clustering_predictions)\n",
    "\n",
    "print(f\"RMSE: {co_clustering_rmse}\")"
   ]
  },
  {
   "cell_type": "code",
   "execution_count": null,
   "id": "36f39aeb",
   "metadata": {},
   "outputs": [],
   "source": [
    "from surprise import BaselineOnly, Dataset, Reader, accuracy\n",
    "from surprise.model_selection import train_test_split\n",
    "\n",
    "# Define the reader\n",
    "reader = Reader(rating_scale=(1, 5))\n",
    "\n",
    "# Load the dataset\n",
    "data = Dataset.load_from_df(train_df[['userId', 'movieId', 'rating']], reader)\n",
    "\n",
    "# Split the data into train and test sets\n",
    "trainset, testset = train_test_split(data, test_size=0.2, random_state=42)\n",
    "\n",
    "# Set hyperparameters\n",
    "bsl_options = {'method': 'sgd', 'learning_rate': 0.005, 'n_epochs': 20, 'reg': 0.02}\n",
    "\n",
    "# Create and train the model using BaselineOnly\n",
    "baseline_model = BaselineOnly(bsl_options=bsl_options, verbose=True)\n",
    "baseline_model.fit(trainset)\n",
    "\n",
    "# Make predictions and calculate RMSE\n",
    "baseline_predictions = baseline_model.test(testset)\n",
    "baseline_rmse = accuracy.rmse(baseline_predictions)\n",
    "\n",
    "print(f\"RMSE: {baseline_rmse}\")"
   ]
  },
  {
   "cell_type": "code",
   "execution_count": null,
   "id": "14c0143a",
   "metadata": {},
   "outputs": [],
   "source": [
    "# Assuming you have a 'train' DataFrame with 'userId', 'movieId', and 'rating' columns\n",
    "reader = Reader(rating_scale=(1, 5))\n",
    "data = Dataset.load_from_df(train_df[['userId', 'movieId', 'rating']], reader)\n",
    "trainset, testset = train_test_split(data, test_size=0.2, random_state=42)\n",
    "\n",
    "# Now you can use SVDpp\n",
    "KNNBasic_model = KNNBasic(n_epochs=50, n_factors=400, init_std_dev=0.001, random_state=42, verbose=True)\n",
    "KNNBasic_model.fit(trainset)\n",
    "KNNBasic_predictions = KNNBasic_model.test(testset)"
   ]
  },
  {
   "cell_type": "code",
   "execution_count": null,
   "id": "2be6fda9",
   "metadata": {},
   "outputs": [],
   "source": [
    "KNNBasic_model = KNNBasic(n_epochs=50,n_factors=400,init_std_dev=0.001,random_state=42, verbose=True)\n",
    "KNNBasic_model.fit(trainset)\n",
    "KNNBasic_predictions = KNNBasic_model.test(testset)\n",
    "KNNBasic_rmse = accuracy.rmse(KNNBasic_predictions)"
   ]
  },
  {
   "cell_type": "markdown",
   "id": "c99cca20",
   "metadata": {},
   "source": [
    "<a id=\"six\"></a>\n",
    "### 7. Model Performance\n",
    "<a class=\"anchor\" id=\"1.1\"></a>\n",
    "<a href=#cont>Back to Table of Contents</a>\n"
   ]
  },
  {
   "cell_type": "code",
   "execution_count": null,
   "id": "55b56b17",
   "metadata": {},
   "outputs": [],
   "source": [
    "#Bar graph with the f1 score for each model\\n\",\n",
    "models = ['Logistic regression', 'Random Forest', 'K Nearest Neighbor', 'Support Vector Classifier']\n",
    "f1_score = [f1_lg,f1_rfc,f1_knn,f1_svs]\n",
    "fig, ax = plt.subplots()\n",
    "hbars = ax.barh(models, f1_score, align='center',color=['green'])\n",
    "ax.set_yticks(models, labels= models)\n",
    "ax.invert_yaxis()  # labels read top-to-bottom\n",
    "ax.set_xlabel('F1_score')\n",
    "ax.set_title('Model Performance comparison')\n",
    "ax.bar_label(hbars, fmt='%.2f',padding=8, color='b', fontsize=14)\n",
    "ax.set_xlim(right=1)  \n",
    "\n",
    "plt.show()"
   ]
  },
  {
   "cell_type": "markdown",
   "id": "2cdd37ea",
   "metadata": {},
   "source": [
    "<a id=\"six\"></a>\n",
    "### 8. Model Explanation\n",
    "<a class=\"anchor\" id=\"1.1\"></a>\n",
    "<a href=#cont>Back to Table of Contents</a>\n"
   ]
  },
  {
   "cell_type": "markdown",
   "id": "44e68a79",
   "metadata": {},
   "source": [
    "<a id=\"six\"></a>\n",
    "### 9. Conclusion\n",
    "<a class=\"anchor\" id=\"1.1\"></a>\n",
    "<a href=#cont>Back to Table of Contents</a>\n"
   ]
  },
  {
   "cell_type": "markdown",
   "id": "aaf96047",
   "metadata": {},
   "source": [
    "This notebook, the movieLens dataset was used to create our recommender system. The dataset draws on movie ratings and movie specific data dating back.\n",
    "\n",
    "We the used 4 different models to build a recommender system. Due to its inefficiency we did not include the content base method as a solution.We also noticed that a high percentage of our movies were rated above 3 with the top 3 occurring ratings being 4, 3 and 5 in that order and that alone comprised 50% of total ratings. There are 19 unique movie genres in the dataset with Drama, comedy and thriller being the 3 most popular genres.\n",
    "\n",
    "We ended upi with the model singular value decomposition(SVD), it is a collaborative filtering method that deals with the sparsity that we had with the user-user and item-item memory based methods, the advantage of being computationally more efficient than content based method \n",
    "\n",
    "In order to produce new recommendations we attempted collaborative based filtering methods because they draw only on past interactions between users and items. These methods do not require item meta-data like their content-based counterparts. This has an added advantage of adapting users' interest which might change over time.\n",
    "\n",
    "The SVD model had improved where we changed the default parameters and was able to predict new ratings with a RMSE score of 0.79870 on kaggle.\n",
    "\n",
    "Possible improvements:\n",
    "\n",
    "Collaborative filtering methods have an issue with the cold start problem, which the content based filtering method doesn’t. This problem can be addressed by implementing a hybrid recommender system that uses a combination of both content and collaborative filtering based methods.\n",
    "In conclusion, Netflix had brought to light how unsurpervised learning can be used to better predict what a potential user could possibly say about a movie, that then guides the choice to recommend the movie to them or not. Collaborative filtering is more subjective over content and it's a better algorithm to choose over content based as it ensures more variery on predictions for recommendations. On model the SVD algorithm from the surprise package proved to be a better model for prediction as compared to the rest."
   ]
  },
  {
   "cell_type": "markdown",
   "id": "fefeacef",
   "metadata": {},
   "source": [
    "<a id=\"eight\"></a>\n",
    "### 10. Resources\n",
    "<a href=#cont>Back to Table of Contents</a>"
   ]
  },
  {
   "cell_type": "markdown",
   "id": "beb13b06",
   "metadata": {},
   "source": [
    "- https://www.enjoyalgorithms.com/blog/recommender-system-using-machine-learning\n",
    "- https://www.datacamp.com/tutorial/recommender-systems-python\n",
    "- https://towardsdatascience.com/introduction-to-recommender-systems-6c66cf15ada\n",
    "- https://realpython.com/build-recommendation-engine-collaborative-filtering/ (Models)"
   ]
  },
  {
   "cell_type": "code",
   "execution_count": null,
   "id": "29eb3690",
   "metadata": {},
   "outputs": [],
   "source": []
  }
 ],
 "metadata": {
  "kaggle": {
   "accelerator": "none",
   "dataSources": [
    {
     "datasetId": 4405474,
     "sourceId": 7566890,
     "sourceType": "datasetVersion"
    }
   ],
   "dockerImageVersionId": 30646,
   "isGpuEnabled": false,
   "isInternetEnabled": true,
   "language": "python",
   "sourceType": "notebook"
  },
  "kernelspec": {
   "display_name": "Python 3 (ipykernel)",
   "language": "python",
   "name": "python3"
  },
  "language_info": {
   "codemirror_mode": {
    "name": "ipython",
    "version": 3
   },
   "file_extension": ".py",
   "mimetype": "text/x-python",
   "name": "python",
   "nbconvert_exporter": "python",
   "pygments_lexer": "ipython3",
   "version": "3.11.7"
  }
 },
 "nbformat": 4,
 "nbformat_minor": 5
}
